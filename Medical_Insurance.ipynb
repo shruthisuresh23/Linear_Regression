{
 "cells": [
  {
   "cell_type": "code",
   "execution_count": 24,
   "metadata": {},
   "outputs": [],
   "source": [
    "## import necessary libraries\n",
    "import numpy as np\n",
    "import pandas as pd\n",
    "import matplotlib.pyplot as plt\n",
    "import seaborn as sns"
   ]
  },
  {
   "cell_type": "code",
   "execution_count": 25,
   "metadata": {},
   "outputs": [
    {
     "data": {
      "text/html": [
       "<div>\n",
       "<style scoped>\n",
       "    .dataframe tbody tr th:only-of-type {\n",
       "        vertical-align: middle;\n",
       "    }\n",
       "\n",
       "    .dataframe tbody tr th {\n",
       "        vertical-align: top;\n",
       "    }\n",
       "\n",
       "    .dataframe thead th {\n",
       "        text-align: right;\n",
       "    }\n",
       "</style>\n",
       "<table border=\"1\" class=\"dataframe\">\n",
       "  <thead>\n",
       "    <tr style=\"text-align: right;\">\n",
       "      <th></th>\n",
       "      <th>age</th>\n",
       "      <th>sex</th>\n",
       "      <th>bmi</th>\n",
       "      <th>children</th>\n",
       "      <th>smoker</th>\n",
       "      <th>region</th>\n",
       "      <th>charges</th>\n",
       "    </tr>\n",
       "  </thead>\n",
       "  <tbody>\n",
       "    <tr>\n",
       "      <th>0</th>\n",
       "      <td>19</td>\n",
       "      <td>female</td>\n",
       "      <td>27.900</td>\n",
       "      <td>0</td>\n",
       "      <td>yes</td>\n",
       "      <td>southwest</td>\n",
       "      <td>16884.92400</td>\n",
       "    </tr>\n",
       "    <tr>\n",
       "      <th>1</th>\n",
       "      <td>18</td>\n",
       "      <td>male</td>\n",
       "      <td>33.770</td>\n",
       "      <td>1</td>\n",
       "      <td>no</td>\n",
       "      <td>southeast</td>\n",
       "      <td>1725.55230</td>\n",
       "    </tr>\n",
       "    <tr>\n",
       "      <th>2</th>\n",
       "      <td>28</td>\n",
       "      <td>male</td>\n",
       "      <td>33.000</td>\n",
       "      <td>3</td>\n",
       "      <td>no</td>\n",
       "      <td>southeast</td>\n",
       "      <td>4449.46200</td>\n",
       "    </tr>\n",
       "    <tr>\n",
       "      <th>3</th>\n",
       "      <td>33</td>\n",
       "      <td>male</td>\n",
       "      <td>22.705</td>\n",
       "      <td>0</td>\n",
       "      <td>no</td>\n",
       "      <td>northwest</td>\n",
       "      <td>21984.47061</td>\n",
       "    </tr>\n",
       "    <tr>\n",
       "      <th>4</th>\n",
       "      <td>32</td>\n",
       "      <td>male</td>\n",
       "      <td>28.880</td>\n",
       "      <td>0</td>\n",
       "      <td>no</td>\n",
       "      <td>northwest</td>\n",
       "      <td>3866.85520</td>\n",
       "    </tr>\n",
       "  </tbody>\n",
       "</table>\n",
       "</div>"
      ],
      "text/plain": [
       "   age     sex     bmi  children smoker     region      charges\n",
       "0   19  female  27.900         0    yes  southwest  16884.92400\n",
       "1   18    male  33.770         1     no  southeast   1725.55230\n",
       "2   28    male  33.000         3     no  southeast   4449.46200\n",
       "3   33    male  22.705         0     no  northwest  21984.47061\n",
       "4   32    male  28.880         0     no  northwest   3866.85520"
      ]
     },
     "execution_count": 25,
     "metadata": {},
     "output_type": "execute_result"
    }
   ],
   "source": [
    "##  read the dataset:\n",
    "df=pd.read_csv(r'C:\\Users\\user\\Downloads\\archive (8)\\insurance.csv')\n",
    "df.head()"
   ]
  },
  {
   "cell_type": "code",
   "execution_count": 26,
   "metadata": {},
   "outputs": [],
   "source": [
    "## make a copy and use if necessary:\n",
    "df1=df.copy()"
   ]
  },
  {
   "cell_type": "code",
   "execution_count": 27,
   "metadata": {},
   "outputs": [
    {
     "name": "stdout",
     "output_type": "stream",
     "text": [
      "<class 'pandas.core.frame.DataFrame'>\n",
      "RangeIndex: 1338 entries, 0 to 1337\n",
      "Data columns (total 7 columns):\n",
      " #   Column    Non-Null Count  Dtype  \n",
      "---  ------    --------------  -----  \n",
      " 0   age       1338 non-null   int64  \n",
      " 1   sex       1338 non-null   object \n",
      " 2   bmi       1338 non-null   float64\n",
      " 3   children  1338 non-null   int64  \n",
      " 4   smoker    1338 non-null   object \n",
      " 5   region    1338 non-null   object \n",
      " 6   charges   1338 non-null   float64\n",
      "dtypes: float64(2), int64(2), object(3)\n",
      "memory usage: 73.3+ KB\n"
     ]
    }
   ],
   "source": [
    "## check all the data types:\n",
    "df.info()"
   ]
  },
  {
   "cell_type": "code",
   "execution_count": 28,
   "metadata": {},
   "outputs": [
    {
     "data": {
      "text/plain": [
       "(1338, 7)"
      ]
     },
     "execution_count": 28,
     "metadata": {},
     "output_type": "execute_result"
    }
   ],
   "source": [
    "## to check the shape of the data:\n",
    "df.shape"
   ]
  },
  {
   "cell_type": "code",
   "execution_count": 29,
   "metadata": {},
   "outputs": [],
   "source": [
    "## Let us split our data into different age groups:\n",
    "## 18-24(group a),25-35(group b),36-45(group c),46-60(group d),above 60 (group e)\n"
   ]
  },
  {
   "cell_type": "code",
   "execution_count": 30,
   "metadata": {},
   "outputs": [],
   "source": [
    "## STEP 1:\n",
    "df['AGE_GROUP']=df['age']"
   ]
  },
  {
   "cell_type": "code",
   "execution_count": 31,
   "metadata": {},
   "outputs": [],
   "source": [
    "## STEP 2:\n",
    "\n",
    "def func_conv(i):\n",
    "    if i>=18 and i<=24:\n",
    "        return 'GROUP_A'\n",
    "    if i>=25 and i<=35:\n",
    "        return 'GROUP_B'\n",
    "    if i>=36 and i<=45:\n",
    "        return 'GROUP_C'\n",
    "    if i>=46 and i<=60:\n",
    "        return 'GROUP_D'\n",
    "    if i>=60:\n",
    "        return 'GROUP_E'"
   ]
  },
  {
   "cell_type": "code",
   "execution_count": 32,
   "metadata": {},
   "outputs": [],
   "source": [
    "df['AGE_GROUP']=df['AGE_GROUP'].apply(func_conv)"
   ]
  },
  {
   "cell_type": "code",
   "execution_count": 33,
   "metadata": {},
   "outputs": [
    {
     "data": {
      "text/html": [
       "<div>\n",
       "<style scoped>\n",
       "    .dataframe tbody tr th:only-of-type {\n",
       "        vertical-align: middle;\n",
       "    }\n",
       "\n",
       "    .dataframe tbody tr th {\n",
       "        vertical-align: top;\n",
       "    }\n",
       "\n",
       "    .dataframe thead th {\n",
       "        text-align: right;\n",
       "    }\n",
       "</style>\n",
       "<table border=\"1\" class=\"dataframe\">\n",
       "  <thead>\n",
       "    <tr style=\"text-align: right;\">\n",
       "      <th></th>\n",
       "      <th>age</th>\n",
       "      <th>sex</th>\n",
       "      <th>bmi</th>\n",
       "      <th>children</th>\n",
       "      <th>smoker</th>\n",
       "      <th>region</th>\n",
       "      <th>charges</th>\n",
       "      <th>AGE_GROUP</th>\n",
       "    </tr>\n",
       "  </thead>\n",
       "  <tbody>\n",
       "    <tr>\n",
       "      <th>0</th>\n",
       "      <td>19</td>\n",
       "      <td>female</td>\n",
       "      <td>27.900</td>\n",
       "      <td>0</td>\n",
       "      <td>yes</td>\n",
       "      <td>southwest</td>\n",
       "      <td>16884.92400</td>\n",
       "      <td>GROUP_A</td>\n",
       "    </tr>\n",
       "    <tr>\n",
       "      <th>1</th>\n",
       "      <td>18</td>\n",
       "      <td>male</td>\n",
       "      <td>33.770</td>\n",
       "      <td>1</td>\n",
       "      <td>no</td>\n",
       "      <td>southeast</td>\n",
       "      <td>1725.55230</td>\n",
       "      <td>GROUP_A</td>\n",
       "    </tr>\n",
       "    <tr>\n",
       "      <th>2</th>\n",
       "      <td>28</td>\n",
       "      <td>male</td>\n",
       "      <td>33.000</td>\n",
       "      <td>3</td>\n",
       "      <td>no</td>\n",
       "      <td>southeast</td>\n",
       "      <td>4449.46200</td>\n",
       "      <td>GROUP_B</td>\n",
       "    </tr>\n",
       "    <tr>\n",
       "      <th>3</th>\n",
       "      <td>33</td>\n",
       "      <td>male</td>\n",
       "      <td>22.705</td>\n",
       "      <td>0</td>\n",
       "      <td>no</td>\n",
       "      <td>northwest</td>\n",
       "      <td>21984.47061</td>\n",
       "      <td>GROUP_B</td>\n",
       "    </tr>\n",
       "    <tr>\n",
       "      <th>4</th>\n",
       "      <td>32</td>\n",
       "      <td>male</td>\n",
       "      <td>28.880</td>\n",
       "      <td>0</td>\n",
       "      <td>no</td>\n",
       "      <td>northwest</td>\n",
       "      <td>3866.85520</td>\n",
       "      <td>GROUP_B</td>\n",
       "    </tr>\n",
       "  </tbody>\n",
       "</table>\n",
       "</div>"
      ],
      "text/plain": [
       "   age     sex     bmi  children smoker     region      charges AGE_GROUP\n",
       "0   19  female  27.900         0    yes  southwest  16884.92400   GROUP_A\n",
       "1   18    male  33.770         1     no  southeast   1725.55230   GROUP_A\n",
       "2   28    male  33.000         3     no  southeast   4449.46200   GROUP_B\n",
       "3   33    male  22.705         0     no  northwest  21984.47061   GROUP_B\n",
       "4   32    male  28.880         0     no  northwest   3866.85520   GROUP_B"
      ]
     },
     "execution_count": 33,
     "metadata": {},
     "output_type": "execute_result"
    }
   ],
   "source": [
    "df.head()"
   ]
  },
  {
   "cell_type": "markdown",
   "metadata": {},
   "source": [
    "                              EXPLORATORY DATA ANALYSIS\n",
    "                           PART A OF EDA: UNDERSTANDING DATA "
   ]
  },
  {
   "cell_type": "markdown",
   "metadata": {},
   "source": [
    "1. Beneficiery:The person who is entitled to receive the amount once the \n",
    "2. This dataset consists of the following columns:\n",
    "    A.Age: This column represents the age of the beneficiery \n",
    "    B.sex: This column represents the gender of the beneficiery\n",
    "    C.bmi:Body mass index is a persons weight in kg divided by the height square \n",
    "    D.Children: Number of children that get covered by this health insurance \n",
    "    E.Smoker: If the beneficiery smokes or not \n",
    "    F.Region: Beneficieries residential area in the US.\n",
    "    G.Insurance: The coverage amount given to the policy holder for medical expenses during   health emergency.\n",
    "3. My ASSUMPTION:\n",
    "* Shruthi,works as a Data Scientist in ABC insurance company \n",
    "* Given is the dataset of the insurance charges that are to be paid by set of 1400 people based on conditions like age , sex and few health records of the person.\n",
    "* Her Boss has asked her gives her past records of their company and assigns her \n",
    "  a task:\n",
    "1. To build a model in order to predict the health insurance coverage amount of an individual.\n",
    "\n",
    "\n"
   ]
  },
  {
   "cell_type": "markdown",
   "metadata": {},
   "source": [
    "                                  LET US BEGIN !!!"
   ]
  },
  {
   "cell_type": "code",
   "execution_count": 34,
   "metadata": {},
   "outputs": [
    {
     "name": "stdout",
     "output_type": "stream",
     "text": [
      "The mean age of the people who have appled for insurance 39.20702541106129\n"
     ]
    }
   ],
   "source": [
    "## UNIVARIATE ANALYSIS:\n",
    "\n",
    "## Let us check average age of the people who have applied for insurance:\n",
    "\n",
    "print('The mean age of the people who have appled for insurance',np.mean(df['age']))"
   ]
  },
  {
   "cell_type": "code",
   "execution_count": 35,
   "metadata": {},
   "outputs": [
    {
     "data": {
      "text/plain": [
       "<matplotlib.axes._subplots.AxesSubplot at 0x1f51d78b788>"
      ]
     },
     "execution_count": 35,
     "metadata": {},
     "output_type": "execute_result"
    },
    {
     "data": {
      "image/png": "[encoded data removed]",
      "text/plain": [
       "<Figure size 432x288 with 1 Axes>"
      ]
     },
     "metadata": {
      "needs_background": "light"
     },
     "output_type": "display_data"
    }
   ],
   "source": [
    "## The proportion of male and female who have applied for insurance ABC insurance company\n",
    "## in different regions in US.\n",
    "\n",
    "df['sex'].value_counts().plot(kind='bar')\n",
    "\n",
    "## Based on gender there is very less difference on the people who \n",
    "## have come to the company to apply for insurance\n",
    "\n"
   ]
  },
  {
   "cell_type": "code",
   "execution_count": 36,
   "metadata": {},
   "outputs": [
    {
     "data": {
      "text/plain": [
       "<matplotlib.axes._subplots.AxesSubplot at 0x1f51d6f7e88>"
      ]
     },
     "execution_count": 36,
     "metadata": {},
     "output_type": "execute_result"
    },
    {
     "data": {
      "image/png": "[encoded data removed]",
      "text/plain": [
       "<Figure size 432x288 with 1 Axes>"
      ]
     },
     "metadata": {},
     "output_type": "display_data"
    }
   ],
   "source": [
    "## Does the proportion of smokers and non smokers who claim for insurance differ?\n",
    "\n",
    "df['smoker'].value_counts().plot(kind='pie',autopct='%.1f%%')\n",
    "\n",
    "## It looks like the proportion of non smokers who have applied for insurance is more than smokers"
   ]
  },
  {
   "cell_type": "code",
   "execution_count": 37,
   "metadata": {},
   "outputs": [
    {
     "data": {
      "image/png": "[encoded data removed]",
      "text/plain": [
       "<Figure size 432x288 with 1 Axes>"
      ]
     },
     "metadata": {
      "needs_background": "light"
     },
     "output_type": "display_data"
    }
   ],
   "source": [
    "## BIVARIATE ANALYSIS:\n",
    "\n",
    "## Does bmi and age have any relation with them ?\n",
    "\n",
    "sns.regplot(df['bmi'],df['age'])\n",
    "plt.show()\n",
    "\n",
    "## The see to Have some amount of correlation "
   ]
  },
  {
   "cell_type": "code",
   "execution_count": 38,
   "metadata": {},
   "outputs": [
    {
     "data": {
      "image/png": "[encoded data removed]",
      "text/plain": [
       "<Figure size 432x288 with 1 Axes>"
      ]
     },
     "metadata": {
      "needs_background": "light"
     },
     "output_type": "display_data"
    }
   ],
   "source": [
    "## Does number of children and mean insurance charges have any difference?\n",
    "\n",
    "sns.boxplot(x=\"children\", y=\"charges\", data=df)\n",
    "plt.show()\n",
    "\n",
    "## We see that the avergae insurance charges does \n",
    "## have a difference."
   ]
  },
  {
   "cell_type": "code",
   "execution_count": 39,
   "metadata": {},
   "outputs": [
    {
     "data": {
      "image/png": "[encoded data removed]",
      "text/plain": [
       "<Figure size 432x288 with 1 Axes>"
      ]
     },
     "metadata": {
      "needs_background": "light"
     },
     "output_type": "display_data"
    }
   ],
   "source": [
    "## Does the region who live have an effect on the insurance claim:\n",
    "\n",
    "sns.violinplot(x='region',y='charges',data=df)\n",
    "plt.show()\n",
    "\n",
    "## We can see that average charges in south east is a bit on the higher side"
   ]
  },
  {
   "cell_type": "code",
   "execution_count": 40,
   "metadata": {},
   "outputs": [
    {
     "data": {
      "text/plain": [
       "<matplotlib.axes._subplots.AxesSubplot at 0x1f51d89d248>"
      ]
     },
     "execution_count": 40,
     "metadata": {},
     "output_type": "execute_result"
    },
    {
     "data": {
      "image/png": "[encoded data removed]",
      "text/plain": [
       "<Figure size 432x288 with 2 Axes>"
      ]
     },
     "metadata": {
      "needs_background": "light"
     },
     "output_type": "display_data"
    }
   ],
   "source": [
    "## MULTIVARIATE ANALYSIS:\n",
    "\n",
    "corr_matrix=df.corr()\n",
    "sns.heatmap(corr_matrix,annot=True)\n",
    "\n",
    "## We see that bmi and age does have a moderate relationship and can contribute in predicting the insurnace charges "
   ]
  },
  {
   "cell_type": "markdown",
   "metadata": {},
   "source": [
    "                                   STATISTICAL ANALYSIS "
   ]
  },
  {
   "cell_type": "code",
   "execution_count": 41,
   "metadata": {},
   "outputs": [
    {
     "data": {
      "text/html": [
       "<div>\n",
       "<style scoped>\n",
       "    .dataframe tbody tr th:only-of-type {\n",
       "        vertical-align: middle;\n",
       "    }\n",
       "\n",
       "    .dataframe tbody tr th {\n",
       "        vertical-align: top;\n",
       "    }\n",
       "\n",
       "    .dataframe thead th {\n",
       "        text-align: right;\n",
       "    }\n",
       "</style>\n",
       "<table border=\"1\" class=\"dataframe\">\n",
       "  <thead>\n",
       "    <tr style=\"text-align: right;\">\n",
       "      <th></th>\n",
       "      <th>age</th>\n",
       "      <th>sex</th>\n",
       "      <th>bmi</th>\n",
       "      <th>children</th>\n",
       "      <th>smoker</th>\n",
       "      <th>region</th>\n",
       "      <th>charges</th>\n",
       "      <th>AGE_GROUP</th>\n",
       "    </tr>\n",
       "  </thead>\n",
       "  <tbody>\n",
       "    <tr>\n",
       "      <th>0</th>\n",
       "      <td>19</td>\n",
       "      <td>female</td>\n",
       "      <td>27.900</td>\n",
       "      <td>0</td>\n",
       "      <td>yes</td>\n",
       "      <td>southwest</td>\n",
       "      <td>16884.92400</td>\n",
       "      <td>GROUP_A</td>\n",
       "    </tr>\n",
       "    <tr>\n",
       "      <th>1</th>\n",
       "      <td>18</td>\n",
       "      <td>male</td>\n",
       "      <td>33.770</td>\n",
       "      <td>1</td>\n",
       "      <td>no</td>\n",
       "      <td>southeast</td>\n",
       "      <td>1725.55230</td>\n",
       "      <td>GROUP_A</td>\n",
       "    </tr>\n",
       "    <tr>\n",
       "      <th>2</th>\n",
       "      <td>28</td>\n",
       "      <td>male</td>\n",
       "      <td>33.000</td>\n",
       "      <td>3</td>\n",
       "      <td>no</td>\n",
       "      <td>southeast</td>\n",
       "      <td>4449.46200</td>\n",
       "      <td>GROUP_B</td>\n",
       "    </tr>\n",
       "    <tr>\n",
       "      <th>3</th>\n",
       "      <td>33</td>\n",
       "      <td>male</td>\n",
       "      <td>22.705</td>\n",
       "      <td>0</td>\n",
       "      <td>no</td>\n",
       "      <td>northwest</td>\n",
       "      <td>21984.47061</td>\n",
       "      <td>GROUP_B</td>\n",
       "    </tr>\n",
       "    <tr>\n",
       "      <th>4</th>\n",
       "      <td>32</td>\n",
       "      <td>male</td>\n",
       "      <td>28.880</td>\n",
       "      <td>0</td>\n",
       "      <td>no</td>\n",
       "      <td>northwest</td>\n",
       "      <td>3866.85520</td>\n",
       "      <td>GROUP_B</td>\n",
       "    </tr>\n",
       "  </tbody>\n",
       "</table>\n",
       "</div>"
      ],
      "text/plain": [
       "   age     sex     bmi  children smoker     region      charges AGE_GROUP\n",
       "0   19  female  27.900         0    yes  southwest  16884.92400   GROUP_A\n",
       "1   18    male  33.770         1     no  southeast   1725.55230   GROUP_A\n",
       "2   28    male  33.000         3     no  southeast   4449.46200   GROUP_B\n",
       "3   33    male  22.705         0     no  northwest  21984.47061   GROUP_B\n",
       "4   32    male  28.880         0     no  northwest   3866.85520   GROUP_B"
      ]
     },
     "execution_count": 41,
     "metadata": {},
     "output_type": "execute_result"
    }
   ],
   "source": [
    "df.head()"
   ]
  },
  {
   "cell_type": "code",
   "execution_count": 42,
   "metadata": {},
   "outputs": [
    {
     "name": "stdout",
     "output_type": "stream",
     "text": [
      "(0.9395521879196167, 3.6251879276250065e-09) (0.8728628158569336, 1.4455900162299346e-28)\n"
     ]
    },
    {
     "data": {
      "text/plain": [
       "MannwhitneyuResult(statistic=7403.0, pvalue=2.6351167222517853e-130)"
      ]
     },
     "execution_count": 42,
     "metadata": {},
     "output_type": "execute_result"
    }
   ],
   "source": [
    "## DOES BEING A SMOKER OR NOT HAVE AN EFFECT ON THE HEALTH INSURANCE CHARGES:\n",
    "\n",
    "## IN TERMS OF STATISTICS:\n",
    "\n",
    "## Ho: mean(insurance charges for smokers)=mean(insurance charges for non smokers)\n",
    "## Ha: mean (insurance charges for smokers)!= mean(insurnace charges for non smokers)\n",
    "\n",
    "## We see that we have categorical column (smoker,with two categories) and numerical column insurance charges\n",
    "\n",
    "## We go for 2 sample mean unpaired test :\n",
    "\n",
    "## check for normality:\n",
    "\n",
    "sample_1=df['charges'][df['smoker']=='yes']\n",
    "sample_2=df['charges'][df['smoker']=='no']\n",
    "\n",
    "from scipy.stats import shapiro \n",
    "\n",
    "print(shapiro(sample_1),shapiro(sample_2))\n",
    "\n",
    "## We see that both the values are below 0.05 . Hence the data is not normal \n",
    "\n",
    "## So we go mannwhitneyu test \n",
    "\n",
    "from scipy.stats import mannwhitneyu \n",
    "\n",
    "mannwhitneyu(sample_1,sample_2)\n",
    "\n",
    "## We see that the p value is less than 0.05 Hence we reject H0\n",
    "\n",
    "\n",
    "## Yes there is a significant difference in the insurance amount paid by individual who\n",
    "## are smokers and non smokers \n",
    "\n",
    "\n",
    "\n"
   ]
  },
  {
   "cell_type": "code",
   "execution_count": 43,
   "metadata": {},
   "outputs": [
    {
     "name": "stdout",
     "output_type": "stream",
     "text": [
      "                 sum_sq      df          F        PR(>F)\n",
      "AGE_GROUP  1.682138e+10     4.0  31.272733  6.333212e-25\n",
      "Residual   1.792528e+11  1333.0        NaN           NaN\n"
     ]
    }
   ],
   "source": [
    "## Is there an effect on age group and medical charges ?\n",
    "\n",
    "## We see that we have one numerical and categorical column( with more than 2 categories)\n",
    "\n",
    "\n",
    "## IN TERMS OF STATISTICS:\n",
    "\n",
    "## H0: mean(insurance charges for Group A)=mean(insurance charges for Group B)=mean(insurance charges for GROUP C)=mean(insurance charges for GROUP D)\n",
    "## Ha: mean(insurance charges for Group A)!=mean(insurance charges for Group B)!=mean(insurance charges for GROUP C)!=mean(insurance charges for GROUP D)\n",
    "\n",
    "\n",
    "## we can go for f_one way or annova test :\n",
    "\n",
    "import statsmodels.api as smi\n",
    "from statsmodels.formula.api import ols\n",
    "from statsmodels.stats.anova import anova_lm\n",
    "\n",
    "formula='charges~AGE_GROUP'\n",
    "model=ols(formula,data=df).fit()\n",
    "aov_table=anova_lm(model,typ=2)\n",
    "\n",
    "print(aov_table)\n",
    "\n",
    "\n",
    "## We see that the p value is less that 0.05 Hence age group has a significant \n",
    "## effect on the amount that a person needs to pay for an insurance policy "
   ]
  },
  {
   "cell_type": "code",
   "execution_count": 44,
   "metadata": {},
   "outputs": [
    {
     "name": "stdout",
     "output_type": "stream",
     "text": [
      "(0.9930257797241211, 0.0035433683078736067) (0.9930475354194641, 0.003130641533061862)\n"
     ]
    },
    {
     "data": {
      "text/plain": [
       "MannwhitneyuResult(statistic=212180.0, pvalue=0.05070064020142721)"
      ]
     },
     "execution_count": 44,
     "metadata": {},
     "output_type": "execute_result"
    }
   ],
   "source": [
    "## Does gender have an effect on bmi ?\n",
    "\n",
    "## 1 numerical column and 1 categorical column gender (with 2 categories)\n",
    "\n",
    "## IN TERMS OF STATISTICS:\n",
    "\n",
    "## h0: avg_bmi(male)= avg_bmi(female)\n",
    "## ha: avg_bmi(male)! =avg_bmi(female)\n",
    "\n",
    "sample_1=df['bmi'][df['sex']=='female']\n",
    "sample_2=df['bmi'][df['sex']=='male']\n",
    "\n",
    "## We need do a mean test 2 sample unpaired:\n",
    "\n",
    "## TO CHECK FOR NORMALITY:\n",
    "\n",
    "from scipy.stats import shapiro \n",
    "\n",
    "print(shapiro(sample_1),shapiro(sample_2))\n",
    "\n",
    "## Since the p value is less than 0.05 . Hence the data is not normal \n",
    "\n",
    "## We go for mannwhitneyu test :\n",
    "\n",
    "from scipy.stats import mannwhitneyu \n",
    "\n",
    "mannwhitneyu(sample_1,sample_2)\n",
    "\n",
    "\n",
    "## The p-value is greater 0.05. Hence we accept the null hypothesis \n",
    "## So there is no significant difference in the average bmi of males are females \n",
    "\n",
    "\n"
   ]
  },
  {
   "cell_type": "code",
   "execution_count": 45,
   "metadata": {},
   "outputs": [
    {
     "data": {
      "text/plain": [
       "Power_divergenceResult(statistic=583.9666666666667, pvalue=4.5718549307645667e-125)"
      ]
     },
     "execution_count": 45,
     "metadata": {},
     "output_type": "execute_result"
    }
   ],
   "source": [
    "## Are the proportion poeple who claimed for insurance with different number of children same?\n",
    "\n",
    "## IN TERMS OF STATISTICS:\n",
    "## As per shruthis expectations this should have been the count:\n",
    "\n",
    "## H0: \n",
    "## proportion(of people with no children)=20% \n",
    "## proportion(of people with 1 children)=15%\n",
    "## proportion(of people with 2 children)=30%\n",
    "## proportion(of people with 3 children)=15%\n",
    "##proportion(of people with 4 children)=10%\n",
    "## proportion(of people with 5 children)=10%\n",
    "\n",
    "## Ha: \n",
    "## proportion(of people with no children)!=20% \n",
    "## proportion(of people with 1 children)!=15%\n",
    "## proportion(of people with 2 children)!=30%\n",
    "## proportion(of people with 3 children)!=15%\n",
    "##proportion(of people with 4 children)!=10%\n",
    "## proportion(of people with 5 children)!=10%\n",
    "\n",
    "\n",
    "\n",
    "## Since we are taking a sigle categorical column with more than 2 categories \n",
    "\n",
    "## We can go for chi-square test:\n",
    "\n",
    "from scipy.stats import chisquare\n",
    "\n",
    "total_people=len(df)\n",
    "\n",
    "ser=df['children'].value_counts()\n",
    "\n",
    "\n",
    "actual=[ser[0],ser[1],ser[2],ser[3],ser[4]]\n",
    "\n",
    "\n",
    "expected=[(0.2*total_people),(0.15*total_people),(0.3*total_people),(0.1*total_people),(0.1*total_people)]\n",
    "\n",
    "\n",
    "chisquare(actual,expected)\n",
    "\n",
    "\n",
    "## There is a significant difference in the proportion of people who have \n",
    "## different number of children \n",
    "\n",
    "\n",
    "\n",
    "\n",
    "\n"
   ]
  },
  {
   "cell_type": "code",
   "execution_count": 46,
   "metadata": {},
   "outputs": [
    {
     "name": "stdout",
     "output_type": "stream",
     "text": [
      "(0.9446991682052612, 5.687479624670986e-22)\n"
     ]
    },
    {
     "data": {
      "text/plain": [
       "WilcoxonResult(statistic=129517.5, pvalue=4.544742184181661e-106)"
      ]
     },
     "execution_count": 46,
     "metadata": {},
     "output_type": "execute_result"
    }
   ],
   "source": [
    "## What is the average age of the people who have claimed for insurance?\n",
    "\n",
    "## Shruthi assumes the following:\n",
    "\n",
    "##The average age of the people who have claimed for insurance=50\n",
    "##The average age of the people who have claimed for insurance!=50\n",
    "\n",
    "## For a single numerical column age we can go for one sample t test \n",
    "\n",
    "sample=df['age']\n",
    "mu=50\n",
    "\n",
    "## To check for normality:\n",
    "\n",
    "from scipy.stats import shapiro \n",
    "\n",
    "print(shapiro(sample))\n",
    "\n",
    "\n",
    "## The data is not normal since the p value is less than 0.05 \n",
    "\n",
    "## Hence we go for wilcoxon test :\n",
    "\n",
    "from scipy.stats import wilcoxon\n",
    "\n",
    "wilcoxon(sample-mu)\n",
    "\n",
    "# Hence the average age based on shruthis assumptions is wrong "
   ]
  },
  {
   "cell_type": "markdown",
   "metadata": {},
   "source": [
    "                 PREPARATION OF DATA FOR BUILDING LINEAR REGRESSION MODEL \n",
    "                        PART B OF EDA : DATA PREPROCESSING "
   ]
  },
  {
   "cell_type": "code",
   "execution_count": 47,
   "metadata": {},
   "outputs": [
    {
     "data": {
      "text/html": [
       "<div>\n",
       "<style scoped>\n",
       "    .dataframe tbody tr th:only-of-type {\n",
       "        vertical-align: middle;\n",
       "    }\n",
       "\n",
       "    .dataframe tbody tr th {\n",
       "        vertical-align: top;\n",
       "    }\n",
       "\n",
       "    .dataframe thead th {\n",
       "        text-align: right;\n",
       "    }\n",
       "</style>\n",
       "<table border=\"1\" class=\"dataframe\">\n",
       "  <thead>\n",
       "    <tr style=\"text-align: right;\">\n",
       "      <th></th>\n",
       "      <th>null_value_count</th>\n",
       "      <th>null_value_percentage</th>\n",
       "    </tr>\n",
       "  </thead>\n",
       "  <tbody>\n",
       "    <tr>\n",
       "      <th>age</th>\n",
       "      <td>0</td>\n",
       "      <td>0.0</td>\n",
       "    </tr>\n",
       "    <tr>\n",
       "      <th>sex</th>\n",
       "      <td>0</td>\n",
       "      <td>0.0</td>\n",
       "    </tr>\n",
       "    <tr>\n",
       "      <th>bmi</th>\n",
       "      <td>0</td>\n",
       "      <td>0.0</td>\n",
       "    </tr>\n",
       "    <tr>\n",
       "      <th>children</th>\n",
       "      <td>0</td>\n",
       "      <td>0.0</td>\n",
       "    </tr>\n",
       "    <tr>\n",
       "      <th>smoker</th>\n",
       "      <td>0</td>\n",
       "      <td>0.0</td>\n",
       "    </tr>\n",
       "    <tr>\n",
       "      <th>region</th>\n",
       "      <td>0</td>\n",
       "      <td>0.0</td>\n",
       "    </tr>\n",
       "    <tr>\n",
       "      <th>charges</th>\n",
       "      <td>0</td>\n",
       "      <td>0.0</td>\n",
       "    </tr>\n",
       "  </tbody>\n",
       "</table>\n",
       "</div>"
      ],
      "text/plain": [
       "          null_value_count  null_value_percentage\n",
       "age                      0                    0.0\n",
       "sex                      0                    0.0\n",
       "bmi                      0                    0.0\n",
       "children                 0                    0.0\n",
       "smoker                   0                    0.0\n",
       "region                   0                    0.0\n",
       "charges                  0                    0.0"
      ]
     },
     "execution_count": 47,
     "metadata": {},
     "output_type": "execute_result"
    }
   ],
   "source": [
    "## DATA-PREPROCESSING:\n",
    "## CHECKING FOR NULL VALUES:\n",
    "\n",
    "df_new=pd.DataFrame(data={'null_value_count':df1.isnull().sum(),'null_value_percentage':df1.isnull().sum()/len(df1)})\n",
    "df_new"
   ]
  },
  {
   "cell_type": "code",
   "execution_count": 48,
   "metadata": {},
   "outputs": [
    {
     "data": {
      "text/html": [
       "<div>\n",
       "<style scoped>\n",
       "    .dataframe tbody tr th:only-of-type {\n",
       "        vertical-align: middle;\n",
       "    }\n",
       "\n",
       "    .dataframe tbody tr th {\n",
       "        vertical-align: top;\n",
       "    }\n",
       "\n",
       "    .dataframe thead th {\n",
       "        text-align: right;\n",
       "    }\n",
       "</style>\n",
       "<table border=\"1\" class=\"dataframe\">\n",
       "  <thead>\n",
       "    <tr style=\"text-align: right;\">\n",
       "      <th></th>\n",
       "      <th>age</th>\n",
       "      <th>bmi</th>\n",
       "      <th>children</th>\n",
       "      <th>charges</th>\n",
       "      <th>sex_male</th>\n",
       "      <th>smoker_yes</th>\n",
       "      <th>region_northwest</th>\n",
       "      <th>region_southeast</th>\n",
       "      <th>region_southwest</th>\n",
       "    </tr>\n",
       "  </thead>\n",
       "  <tbody>\n",
       "    <tr>\n",
       "      <th>0</th>\n",
       "      <td>19</td>\n",
       "      <td>27.90</td>\n",
       "      <td>0</td>\n",
       "      <td>16884.9240</td>\n",
       "      <td>0</td>\n",
       "      <td>1</td>\n",
       "      <td>0</td>\n",
       "      <td>0</td>\n",
       "      <td>1</td>\n",
       "    </tr>\n",
       "    <tr>\n",
       "      <th>1</th>\n",
       "      <td>18</td>\n",
       "      <td>33.77</td>\n",
       "      <td>1</td>\n",
       "      <td>1725.5523</td>\n",
       "      <td>1</td>\n",
       "      <td>0</td>\n",
       "      <td>0</td>\n",
       "      <td>1</td>\n",
       "      <td>0</td>\n",
       "    </tr>\n",
       "    <tr>\n",
       "      <th>2</th>\n",
       "      <td>28</td>\n",
       "      <td>33.00</td>\n",
       "      <td>3</td>\n",
       "      <td>4449.4620</td>\n",
       "      <td>1</td>\n",
       "      <td>0</td>\n",
       "      <td>0</td>\n",
       "      <td>1</td>\n",
       "      <td>0</td>\n",
       "    </tr>\n",
       "  </tbody>\n",
       "</table>\n",
       "</div>"
      ],
      "text/plain": [
       "   age    bmi  children     charges  sex_male  smoker_yes  region_northwest  \\\n",
       "0   19  27.90         0  16884.9240         0           1                 0   \n",
       "1   18  33.77         1   1725.5523         1           0                 0   \n",
       "2   28  33.00         3   4449.4620         1           0                 0   \n",
       "\n",
       "   region_southeast  region_southwest  \n",
       "0                 0                 1  \n",
       "1                 1                 0  \n",
       "2                 1                 0  "
      ]
     },
     "execution_count": 48,
     "metadata": {},
     "output_type": "execute_result"
    }
   ],
   "source": [
    "## We see that sex, smoker and region are categorical columns:\n",
    "## so we need to make sure we encode it \n",
    "## for propoer intepretation in linear regression it is better to use one hot encoding\n",
    "\n",
    "df1=pd.get_dummies(data=df1,columns=['sex','smoker','region'],drop_first=True)\n",
    "df1.head(3)"
   ]
  },
  {
   "cell_type": "code",
   "execution_count": 49,
   "metadata": {},
   "outputs": [
    {
     "name": "stdout",
     "output_type": "stream",
     "text": [
      "\n"
     ]
    }
   ],
   "source": [
    "## To make sure there are no ambigous values:\n",
    "\n",
    "df1['age'].value_counts()\n",
    "\n",
    "## no ambigous value for age \n",
    "\n",
    "df1['bmi'].value_counts()\n",
    "\n",
    "## no ambigous value for bmi \n",
    "\n",
    "df1['children'].value_counts()\n",
    "\n",
    "## no ambigous value in children \n",
    "\n",
    "print('')"
   ]
  },
  {
   "cell_type": "code",
   "execution_count": 50,
   "metadata": {},
   "outputs": [
    {
     "data": {
      "text/html": [
       "<div>\n",
       "<style scoped>\n",
       "    .dataframe tbody tr th:only-of-type {\n",
       "        vertical-align: middle;\n",
       "    }\n",
       "\n",
       "    .dataframe tbody tr th {\n",
       "        vertical-align: top;\n",
       "    }\n",
       "\n",
       "    .dataframe thead th {\n",
       "        text-align: right;\n",
       "    }\n",
       "</style>\n",
       "<table border=\"1\" class=\"dataframe\">\n",
       "  <thead>\n",
       "    <tr style=\"text-align: right;\">\n",
       "      <th></th>\n",
       "      <th>age</th>\n",
       "      <th>bmi</th>\n",
       "      <th>children</th>\n",
       "      <th>charges</th>\n",
       "    </tr>\n",
       "  </thead>\n",
       "  <tbody>\n",
       "    <tr>\n",
       "      <th>0</th>\n",
       "      <td>19</td>\n",
       "      <td>27.90</td>\n",
       "      <td>0</td>\n",
       "      <td>16884.9240</td>\n",
       "    </tr>\n",
       "    <tr>\n",
       "      <th>1</th>\n",
       "      <td>18</td>\n",
       "      <td>33.77</td>\n",
       "      <td>1</td>\n",
       "      <td>1725.5523</td>\n",
       "    </tr>\n",
       "  </tbody>\n",
       "</table>\n",
       "</div>"
      ],
      "text/plain": [
       "   age    bmi  children     charges\n",
       "0   19  27.90         0  16884.9240\n",
       "1   18  33.77         1   1725.5523"
      ]
     },
     "execution_count": 50,
     "metadata": {},
     "output_type": "execute_result"
    }
   ],
   "source": [
    "## to check if the numerical columns in the data has outliers:\n",
    "\n",
    "num_data=df[['age','bmi','children','charges']]\n",
    "num_data.head(2)"
   ]
  },
  {
   "cell_type": "code",
   "execution_count": 51,
   "metadata": {},
   "outputs": [
    {
     "data": {
      "image/png": "[encoded data removed]",
      "text/plain": [
       "<Figure size 432x288 with 1 Axes>"
      ]
     },
     "metadata": {
      "needs_background": "light"
     },
     "output_type": "display_data"
    },
    {
     "data": {
      "image/png": "[encoded data removed]",
      "text/plain": [
       "<Figure size 432x288 with 1 Axes>"
      ]
     },
     "metadata": {
      "needs_background": "light"
     },
     "output_type": "display_data"
    },
    {
     "data": {
      "image/png": "[encoded data removed]",
      "text/plain": [
       "<Figure size 432x288 with 1 Axes>"
      ]
     },
     "metadata": {
      "needs_background": "light"
     },
     "output_type": "display_data"
    },
    {
     "data": {
      "image/png": "[encoded data removed]",
      "text/plain": [
       "<Figure size 432x288 with 1 Axes>"
      ]
     },
     "metadata": {
      "needs_background": "light"
     },
     "output_type": "display_data"
    }
   ],
   "source": [
    "for i in num_data.columns:\n",
    "    sns.boxplot(num_data[i])\n",
    "    plt.show()"
   ]
  },
  {
   "cell_type": "code",
   "execution_count": 52,
   "metadata": {},
   "outputs": [
    {
     "name": "stderr",
     "output_type": "stream",
     "text": [
      "C:\\Users\\user\\anaconda3\\lib\\site-packages\\pandas\\core\\indexing.py:965: SettingWithCopyWarning: \n",
      "A value is trying to be set on a copy of a slice from a DataFrame.\n",
      "Try using .loc[row_indexer,col_indexer] = value instead\n",
      "\n",
      "See the caveats in the documentation: https://pandas.pydata.org/pandas-docs/stable/user_guide/indexing.html#returning-a-view-versus-a-copy\n",
      "  self.obj[item] = s\n"
     ]
    }
   ],
   "source": [
    "## Since Linear regression model is sensitive to outliers \n",
    "## we will go for capping or winsurasation:\n",
    "\n",
    "for i in num_data.columns:\n",
    "    q1=num_data[i].quantile(0.25)\n",
    "    q3=num_data[i].quantile(0.75)\n",
    "    iqr=q3-q1\n",
    "    ub=q3+(1.5*iqr)\n",
    "    lb=q1-(1.5*iqr)\n",
    "    uc=num_data[i].quantile(0.99)\n",
    "    lc=num_data[i].quantile(0.01)\n",
    "    for j in num_data[i].index:\n",
    "        if num_data.loc[j,i]>ub:\n",
    "            num_data.loc[j,i]=uc\n",
    "        if num_data.loc[j,i]<lb:\n",
    "            num_data.loc[j,i]=lc"
   ]
  },
  {
   "cell_type": "code",
   "execution_count": 53,
   "metadata": {},
   "outputs": [
    {
     "data": {
      "image/png": "[encoded data removed]",
      "text/plain": [
       "<Figure size 432x288 with 1 Axes>"
      ]
     },
     "metadata": {
      "needs_background": "light"
     },
     "output_type": "display_data"
    },
    {
     "data": {
      "image/png": "[encoded data removed]",
      "text/plain": [
       "<Figure size 432x288 with 1 Axes>"
      ]
     },
     "metadata": {
      "needs_background": "light"
     },
     "output_type": "display_data"
    },
    {
     "data": {
      "image/png": "[encoded data removed]",
      "text/plain": [
       "<Figure size 432x288 with 1 Axes>"
      ]
     },
     "metadata": {
      "needs_background": "light"
     },
     "output_type": "display_data"
    },
    {
     "data": {
      "image/png": "[encoded data removed]",
      "text/plain": [
       "<Figure size 432x288 with 1 Axes>"
      ]
     },
     "metadata": {
      "needs_background": "light"
     },
     "output_type": "display_data"
    }
   ],
   "source": [
    "## now check if the outliers are removed using violin plot:\n",
    "\n",
    "for i in num_data.columns:\n",
    "    sns.violinplot(num_data[i])\n",
    "    plt.show()"
   ]
  },
  {
   "cell_type": "code",
   "execution_count": 54,
   "metadata": {},
   "outputs": [],
   "source": [
    "## the data is alomost free of all outliers:\n",
    "\n",
    "df1[['age','bmi','children','charges']]=num_data[['age','bmi','children','charges']]"
   ]
  },
  {
   "cell_type": "code",
   "execution_count": 55,
   "metadata": {},
   "outputs": [
    {
     "data": {
      "text/html": [
       "<div>\n",
       "<style scoped>\n",
       "    .dataframe tbody tr th:only-of-type {\n",
       "        vertical-align: middle;\n",
       "    }\n",
       "\n",
       "    .dataframe tbody tr th {\n",
       "        vertical-align: top;\n",
       "    }\n",
       "\n",
       "    .dataframe thead th {\n",
       "        text-align: right;\n",
       "    }\n",
       "</style>\n",
       "<table border=\"1\" class=\"dataframe\">\n",
       "  <thead>\n",
       "    <tr style=\"text-align: right;\">\n",
       "      <th></th>\n",
       "      <th>age</th>\n",
       "      <th>bmi</th>\n",
       "      <th>children</th>\n",
       "      <th>charges</th>\n",
       "      <th>sex_male</th>\n",
       "      <th>smoker_yes</th>\n",
       "      <th>region_northwest</th>\n",
       "      <th>region_southeast</th>\n",
       "      <th>region_southwest</th>\n",
       "    </tr>\n",
       "  </thead>\n",
       "  <tbody>\n",
       "    <tr>\n",
       "      <th>0</th>\n",
       "      <td>19</td>\n",
       "      <td>27.90</td>\n",
       "      <td>0</td>\n",
       "      <td>16884.9240</td>\n",
       "      <td>0</td>\n",
       "      <td>1</td>\n",
       "      <td>0</td>\n",
       "      <td>0</td>\n",
       "      <td>1</td>\n",
       "    </tr>\n",
       "    <tr>\n",
       "      <th>1</th>\n",
       "      <td>18</td>\n",
       "      <td>33.77</td>\n",
       "      <td>1</td>\n",
       "      <td>1725.5523</td>\n",
       "      <td>1</td>\n",
       "      <td>0</td>\n",
       "      <td>0</td>\n",
       "      <td>1</td>\n",
       "      <td>0</td>\n",
       "    </tr>\n",
       "    <tr>\n",
       "      <th>2</th>\n",
       "      <td>28</td>\n",
       "      <td>33.00</td>\n",
       "      <td>3</td>\n",
       "      <td>4449.4620</td>\n",
       "      <td>1</td>\n",
       "      <td>0</td>\n",
       "      <td>0</td>\n",
       "      <td>1</td>\n",
       "      <td>0</td>\n",
       "    </tr>\n",
       "  </tbody>\n",
       "</table>\n",
       "</div>"
      ],
      "text/plain": [
       "   age    bmi  children     charges  sex_male  smoker_yes  region_northwest  \\\n",
       "0   19  27.90         0  16884.9240         0           1                 0   \n",
       "1   18  33.77         1   1725.5523         1           0                 0   \n",
       "2   28  33.00         3   4449.4620         1           0                 0   \n",
       "\n",
       "   region_southeast  region_southwest  \n",
       "0                 0                 1  \n",
       "1                 1                 0  \n",
       "2                 1                 0  "
      ]
     },
     "execution_count": 55,
     "metadata": {},
     "output_type": "execute_result"
    }
   ],
   "source": [
    "df1.head(3)"
   ]
  },
  {
   "cell_type": "code",
   "execution_count": 56,
   "metadata": {},
   "outputs": [],
   "source": [
    "## Once outliers and encoding is done we will be going for going for checking the assumptons:"
   ]
  },
  {
   "cell_type": "code",
   "execution_count": 57,
   "metadata": {},
   "outputs": [],
   "source": [
    "## Assumption 1:\n",
    "## We need to check if the ouput column is continous:\n",
    "## Since insurance charges are in float and is continous in nature we can use linear \n",
    "## regression for this model "
   ]
  },
  {
   "cell_type": "code",
   "execution_count": 58,
   "metadata": {},
   "outputs": [],
   "source": [
    "## split the data into 2:\n",
    "inp=df1.drop('charges',axis=1)\n",
    "out=df1['charges']"
   ]
  },
  {
   "cell_type": "code",
   "execution_count": 59,
   "metadata": {},
   "outputs": [
    {
     "data": {
      "text/html": [
       "<table class=\"simpletable\">\n",
       "<caption>OLS Regression Results</caption>\n",
       "<tr>\n",
       "  <th>Dep. Variable:</th>         <td>charges</td>     <th>  R-squared:         </th> <td>   0.731</td> \n",
       "</tr>\n",
       "<tr>\n",
       "  <th>Model:</th>                   <td>OLS</td>       <th>  Adj. R-squared:    </th> <td>   0.729</td> \n",
       "</tr>\n",
       "<tr>\n",
       "  <th>Method:</th>             <td>Least Squares</td>  <th>  F-statistic:       </th> <td>   450.4</td> \n",
       "</tr>\n",
       "<tr>\n",
       "  <th>Date:</th>             <td>Thu, 07 Jan 2021</td> <th>  Prob (F-statistic):</th>  <td>  0.00</td>  \n",
       "</tr>\n",
       "<tr>\n",
       "  <th>Time:</th>                 <td>22:40:58</td>     <th>  Log-Likelihood:    </th> <td> -13759.</td> \n",
       "</tr>\n",
       "<tr>\n",
       "  <th>No. Observations:</th>      <td>  1338</td>      <th>  AIC:               </th> <td>2.754e+04</td>\n",
       "</tr>\n",
       "<tr>\n",
       "  <th>Df Residuals:</th>          <td>  1329</td>      <th>  BIC:               </th> <td>2.758e+04</td>\n",
       "</tr>\n",
       "<tr>\n",
       "  <th>Df Model:</th>              <td>     8</td>      <th>                     </th>     <td> </td>    \n",
       "</tr>\n",
       "<tr>\n",
       "  <th>Covariance Type:</th>      <td>nonrobust</td>    <th>                     </th>     <td> </td>    \n",
       "</tr>\n",
       "</table>\n",
       "<table class=\"simpletable\">\n",
       "<tr>\n",
       "          <td></td>            <th>coef</th>     <th>std err</th>      <th>t</th>      <th>P>|t|</th>  <th>[0.025</th>    <th>0.975]</th>  \n",
       "</tr>\n",
       "<tr>\n",
       "  <th>const</th>            <td>-1.351e+04</td> <td> 1162.489</td> <td>  -11.623</td> <td> 0.000</td> <td>-1.58e+04</td> <td>-1.12e+04</td>\n",
       "</tr>\n",
       "<tr>\n",
       "  <th>age</th>              <td>  237.9626</td> <td>   13.937</td> <td>   17.075</td> <td> 0.000</td> <td>  210.622</td> <td>  265.303</td>\n",
       "</tr>\n",
       "<tr>\n",
       "  <th>bmi</th>              <td>  412.6934</td> <td>   33.797</td> <td>   12.211</td> <td> 0.000</td> <td>  346.392</td> <td>  478.995</td>\n",
       "</tr>\n",
       "<tr>\n",
       "  <th>children</th>         <td>  493.4398</td> <td>  161.351</td> <td>    3.058</td> <td> 0.002</td> <td>  176.910</td> <td>  809.970</td>\n",
       "</tr>\n",
       "<tr>\n",
       "  <th>sex_male</th>         <td>  101.8427</td> <td>  389.799</td> <td>    0.261</td> <td> 0.794</td> <td> -662.846</td> <td>  866.532</td>\n",
       "</tr>\n",
       "<tr>\n",
       "  <th>smoker_yes</th>       <td> 2.691e+04</td> <td>  483.747</td> <td>   55.630</td> <td> 0.000</td> <td>  2.6e+04</td> <td> 2.79e+04</td>\n",
       "</tr>\n",
       "<tr>\n",
       "  <th>region_northwest</th> <td> -573.1128</td> <td>  557.649</td> <td>   -1.028</td> <td> 0.304</td> <td>-1667.082</td> <td>  520.856</td>\n",
       "</tr>\n",
       "<tr>\n",
       "  <th>region_southeast</th> <td>-1117.2663</td> <td>  560.323</td> <td>   -1.994</td> <td> 0.046</td> <td>-2216.480</td> <td>  -18.052</td>\n",
       "</tr>\n",
       "<tr>\n",
       "  <th>region_southwest</th> <td> -764.4759</td> <td>  559.628</td> <td>   -1.366</td> <td> 0.172</td> <td>-1862.327</td> <td>  333.375</td>\n",
       "</tr>\n",
       "</table>\n",
       "<table class=\"simpletable\">\n",
       "<tr>\n",
       "  <th>Omnibus:</th>       <td>187.161</td> <th>  Durbin-Watson:     </th> <td>   2.083</td>\n",
       "</tr>\n",
       "<tr>\n",
       "  <th>Prob(Omnibus):</th> <td> 0.000</td>  <th>  Jarque-Bera (JB):  </th> <td> 358.433</td>\n",
       "</tr>\n",
       "<tr>\n",
       "  <th>Skew:</th>          <td> 0.857</td>  <th>  Prob(JB):          </th> <td>1.47e-78</td>\n",
       "</tr>\n",
       "<tr>\n",
       "  <th>Kurtosis:</th>      <td> 4.868</td>  <th>  Cond. No.          </th> <td>    313.</td>\n",
       "</tr>\n",
       "</table><br/><br/>Warnings:<br/>[1] Standard Errors assume that the covariance matrix of the errors is correctly specified."
      ],
      "text/plain": [
       "<class 'statsmodels.iolib.summary.Summary'>\n",
       "\"\"\"\n",
       "                            OLS Regression Results                            \n",
       "==============================================================================\n",
       "Dep. Variable:                charges   R-squared:                       0.731\n",
       "Model:                            OLS   Adj. R-squared:                  0.729\n",
       "Method:                 Least Squares   F-statistic:                     450.4\n",
       "Date:                Thu, 07 Jan 2021   Prob (F-statistic):               0.00\n",
       "Time:                        22:40:58   Log-Likelihood:                -13759.\n",
       "No. Observations:                1338   AIC:                         2.754e+04\n",
       "Df Residuals:                    1329   BIC:                         2.758e+04\n",
       "Df Model:                           8                                         \n",
       "Covariance Type:            nonrobust                                         \n",
       "====================================================================================\n",
       "                       coef    std err          t      P>|t|      [0.025      0.975]\n",
       "------------------------------------------------------------------------------------\n",
       "const            -1.351e+04   1162.489    -11.623      0.000   -1.58e+04   -1.12e+04\n",
       "age                237.9626     13.937     17.075      0.000     210.622     265.303\n",
       "bmi                412.6934     33.797     12.211      0.000     346.392     478.995\n",
       "children           493.4398    161.351      3.058      0.002     176.910     809.970\n",
       "sex_male           101.8427    389.799      0.261      0.794    -662.846     866.532\n",
       "smoker_yes        2.691e+04    483.747     55.630      0.000     2.6e+04    2.79e+04\n",
       "region_northwest  -573.1128    557.649     -1.028      0.304   -1667.082     520.856\n",
       "region_southeast -1117.2663    560.323     -1.994      0.046   -2216.480     -18.052\n",
       "region_southwest  -764.4759    559.628     -1.366      0.172   -1862.327     333.375\n",
       "==============================================================================\n",
       "Omnibus:                      187.161   Durbin-Watson:                   2.083\n",
       "Prob(Omnibus):                  0.000   Jarque-Bera (JB):              358.433\n",
       "Skew:                           0.857   Prob(JB):                     1.47e-78\n",
       "Kurtosis:                       4.868   Cond. No.                         313.\n",
       "==============================================================================\n",
       "\n",
       "Warnings:\n",
       "[1] Standard Errors assume that the covariance matrix of the errors is correctly specified.\n",
       "\"\"\""
      ]
     },
     "execution_count": 59,
     "metadata": {},
     "output_type": "execute_result"
    }
   ],
   "source": [
    "## Assumption 2:\n",
    "## we need to check if there is multi-collinearity problems:\n",
    "\n",
    "## build the model first:\n",
    "\n",
    "import statsmodels.api as smi\n",
    "inpc=smi.add_constant(inp)\n",
    "ols=smi.OLS(out,inpc)\n",
    "ols_mod=ols.fit()\n",
    "\n",
    "ols_mod.summary()"
   ]
  },
  {
   "cell_type": "code",
   "execution_count": 60,
   "metadata": {},
   "outputs": [],
   "source": [
    "## to check for multi-collinearity problems:\n",
    "## since vif values are sensitive to scaling :\n",
    "\n",
    "inp1=inp-inp.mean()"
   ]
  },
  {
   "cell_type": "code",
   "execution_count": 61,
   "metadata": {},
   "outputs": [
    {
     "data": {
      "text/html": [
       "<div>\n",
       "<style scoped>\n",
       "    .dataframe tbody tr th:only-of-type {\n",
       "        vertical-align: middle;\n",
       "    }\n",
       "\n",
       "    .dataframe tbody tr th {\n",
       "        vertical-align: top;\n",
       "    }\n",
       "\n",
       "    .dataframe thead th {\n",
       "        text-align: right;\n",
       "    }\n",
       "</style>\n",
       "<table border=\"1\" class=\"dataframe\">\n",
       "  <thead>\n",
       "    <tr style=\"text-align: right;\">\n",
       "      <th></th>\n",
       "      <th>Feature_Names</th>\n",
       "      <th>Vif_values</th>\n",
       "    </tr>\n",
       "  </thead>\n",
       "  <tbody>\n",
       "    <tr>\n",
       "      <th>0</th>\n",
       "      <td>age</td>\n",
       "      <td>1.017521</td>\n",
       "    </tr>\n",
       "    <tr>\n",
       "      <th>1</th>\n",
       "      <td>bmi</td>\n",
       "      <td>1.106255</td>\n",
       "    </tr>\n",
       "    <tr>\n",
       "      <th>2</th>\n",
       "      <td>children</td>\n",
       "      <td>1.004039</td>\n",
       "    </tr>\n",
       "    <tr>\n",
       "      <th>3</th>\n",
       "      <td>sex_male</td>\n",
       "      <td>1.008739</td>\n",
       "    </tr>\n",
       "    <tr>\n",
       "      <th>4</th>\n",
       "      <td>smoker_yes</td>\n",
       "      <td>1.012092</td>\n",
       "    </tr>\n",
       "    <tr>\n",
       "      <th>5</th>\n",
       "      <td>region_northwest</td>\n",
       "      <td>1.518824</td>\n",
       "    </tr>\n",
       "    <tr>\n",
       "      <th>6</th>\n",
       "      <td>region_southeast</td>\n",
       "      <td>1.651313</td>\n",
       "    </tr>\n",
       "    <tr>\n",
       "      <th>7</th>\n",
       "      <td>region_southwest</td>\n",
       "      <td>1.529623</td>\n",
       "    </tr>\n",
       "  </tbody>\n",
       "</table>\n",
       "</div>"
      ],
      "text/plain": [
       "      Feature_Names  Vif_values\n",
       "0               age    1.017521\n",
       "1               bmi    1.106255\n",
       "2          children    1.004039\n",
       "3          sex_male    1.008739\n",
       "4        smoker_yes    1.012092\n",
       "5  region_northwest    1.518824\n",
       "6  region_southeast    1.651313\n",
       "7  region_southwest    1.529623"
      ]
     },
     "execution_count": 61,
     "metadata": {},
     "output_type": "execute_result"
    }
   ],
   "source": [
    "## create a data frame to check the vif values of the numerical column:\n",
    "\n",
    "vif=pd.DataFrame()\n",
    "\n",
    "from statsmodels.stats.outliers_influence import variance_inflation_factor\n",
    "\n",
    "vif['Feature_Names']=inp1.columns\n",
    "vif['Vif_values']=[variance_inflation_factor(inp1.values,i) for i in range(inp1.shape[1])]\n",
    "\n",
    "vif"
   ]
  },
  {
   "cell_type": "code",
   "execution_count": 62,
   "metadata": {},
   "outputs": [],
   "source": [
    "## we see that the data is free of multi-collinearity"
   ]
  },
  {
   "cell_type": "code",
   "execution_count": 63,
   "metadata": {},
   "outputs": [
    {
     "data": {
      "text/plain": [
       "0.8583833485601692"
      ]
     },
     "execution_count": 63,
     "metadata": {},
     "output_type": "execute_result"
    }
   ],
   "source": [
    "## Assumption 5: to check for normality:\n",
    "\n",
    "## level 1 check \n",
    "\n",
    "ols_mod.resid.skew()\n",
    "\n",
    "## The data is not normal "
   ]
  },
  {
   "cell_type": "code",
   "execution_count": 64,
   "metadata": {},
   "outputs": [
    {
     "data": {
      "image/png": "[encoded data removed]",
      "text/plain": [
       "<Figure size 432x288 with 1 Axes>"
      ]
     },
     "metadata": {
      "needs_background": "light"
     },
     "output_type": "display_data"
    }
   ],
   "source": [
    "## level 2 check :\n",
    "\n",
    "import scipy.stats as stats\n",
    "\n",
    "stats.probplot(ols_mod.resid,plot=plt)\n",
    "plt.show()\n",
    "\n",
    "## we see that there is a large deviation of the residue data points from the line \n",
    "## so the data is not normal "
   ]
  },
  {
   "cell_type": "code",
   "execution_count": 65,
   "metadata": {},
   "outputs": [
    {
     "data": {
      "image/png": "[encoded data removed]",
      "text/plain": [
       "<Figure size 432x288 with 1 Axes>"
      ]
     },
     "metadata": {
      "needs_background": "light"
     },
     "output_type": "display_data"
    }
   ],
   "source": [
    "## level 3 check:\n",
    "\n",
    "sns.distplot(ols_mod.resid)\n",
    "plt.show()\n",
    "\n",
    "## we see that the data is skewed towards one side."
   ]
  },
  {
   "cell_type": "code",
   "execution_count": 66,
   "metadata": {},
   "outputs": [
    {
     "data": {
      "text/plain": [
       "0.003587002332258624"
      ]
     },
     "execution_count": 66,
     "metadata": {},
     "output_type": "execute_result"
    }
   ],
   "source": [
    "## To remove skewness we need to try transform the acctaul output\n",
    "\n",
    "## log transformation\n",
    "\n",
    "np.log(out).skew()"
   ]
  },
  {
   "cell_type": "code",
   "execution_count": 67,
   "metadata": {},
   "outputs": [
    {
     "data": {
      "text/plain": [
       "0.9368317706677455"
      ]
     },
     "execution_count": 67,
     "metadata": {},
     "output_type": "execute_result"
    }
   ],
   "source": [
    "## sqrt transformation:\n",
    "\n",
    "np.sqrt(out).skew()"
   ]
  },
  {
   "cell_type": "code",
   "execution_count": 68,
   "metadata": {},
   "outputs": [
    {
     "data": {
      "text/plain": [
       "0.000304641465187296"
      ]
     },
     "execution_count": 68,
     "metadata": {},
     "output_type": "execute_result"
    }
   ],
   "source": [
    "## using boxcox transformation:\n",
    "\n",
    "import scipy.stats as stats\n",
    "\n",
    "val,lam=stats.boxcox(out)\n",
    "\n",
    "from scipy.stats import skew\n",
    "\n",
    "skew(val)"
   ]
  },
  {
   "cell_type": "code",
   "execution_count": 69,
   "metadata": {},
   "outputs": [],
   "source": [
    "out=val"
   ]
  },
  {
   "cell_type": "code",
   "execution_count": 70,
   "metadata": {},
   "outputs": [
    {
     "data": {
      "text/plain": [
       "(1.0897507447977246, 0.13688553307345247)"
      ]
     },
     "execution_count": 70,
     "metadata": {},
     "output_type": "execute_result"
    }
   ],
   "source": [
    "## Assumption 3: Linearity:\n",
    "\n",
    "## Level 1 check:\n",
    "\n",
    "from statsmodels.stats.diagnostic import linear_rainbow\n",
    "\n",
    "linear_rainbow(res=ols_mod,frac=0.6)\n",
    "\n",
    "## we see that the value is greater that 0.05 , hence it is linear "
   ]
  },
  {
   "cell_type": "code",
   "execution_count": 71,
   "metadata": {},
   "outputs": [
    {
     "data": {
      "text/plain": [
       "<matplotlib.axes._subplots.AxesSubplot at 0x1f520726588>"
      ]
     },
     "execution_count": 71,
     "metadata": {},
     "output_type": "execute_result"
    },
    {
     "data": {
      "image/png": "[encoded data removed]",
      "text/plain": [
       "<Figure size 432x288 with 1 Axes>"
      ]
     },
     "metadata": {
      "needs_background": "light"
     },
     "output_type": "display_data"
    }
   ],
   "source": [
    "## Level 2 check:\n",
    "\n",
    "sns.regplot(out,ols_mod.predict(inpc))\n",
    "\n",
    "## we see that a linear line can be drawn between input and output "
   ]
  },
  {
   "cell_type": "code",
   "execution_count": 72,
   "metadata": {},
   "outputs": [
    {
     "data": {
      "image/png": "[encoded data removed]",
      "text/plain": [
       "<Figure size 432x288 with 1 Axes>"
      ]
     },
     "metadata": {
      "needs_background": "light"
     },
     "output_type": "display_data"
    },
    {
     "data": {
      "image/png": "[encoded data removed]",
      "text/plain": [
       "<Figure size 432x288 with 1 Axes>"
      ]
     },
     "metadata": {
      "needs_background": "light"
     },
     "output_type": "display_data"
    },
    {
     "data": {
      "image/png": "[encoded data removed]",
      "text/plain": [
       "<Figure size 432x288 with 1 Axes>"
      ]
     },
     "metadata": {
      "needs_background": "light"
     },
     "output_type": "display_data"
    },
    {
     "data": {
      "image/png": "[encoded data removed]",
      "text/plain": [
       "<Figure size 432x288 with 1 Axes>"
      ]
     },
     "metadata": {
      "needs_background": "light"
     },
     "output_type": "display_data"
    },
    {
     "data": {
      "image/png": "[encoded data removed]",
      "text/plain": [
       "<Figure size 432x288 with 1 Axes>"
      ]
     },
     "metadata": {
      "needs_background": "light"
     },
     "output_type": "display_data"
    },
    {
     "data": {
      "image/png": "[encoded data removed]",
      "text/plain": [
       "<Figure size 432x288 with 1 Axes>"
      ]
     },
     "metadata": {
      "needs_background": "light"
     },
     "output_type": "display_data"
    },
    {
     "data": {
      "image/png": "[encoded data removed]",
      "text/plain": [
       "<Figure size 432x288 with 1 Axes>"
      ]
     },
     "metadata": {
      "needs_background": "light"
     },
     "output_type": "display_data"
    },
    {
     "data": {
      "image/png": "[encoded data removed]",
      "text/plain": [
       "<Figure size 432x288 with 1 Axes>"
      ]
     },
     "metadata": {
      "needs_background": "light"
     },
     "output_type": "display_data"
    }
   ],
   "source": [
    "for i in inp1.columns:\n",
    "    sns.residplot(ols_mod.resid,inp1[i])\n",
    "    plt.show()\n",
    "## we see that the residue is symmetrical in nature since the data points equally lie \n",
    "## on both sides "
   ]
  },
  {
   "cell_type": "code",
   "execution_count": 73,
   "metadata": {},
   "outputs": [
    {
     "data": {
      "text/plain": [
       "(0.9775629357171094, 0.6147034159580762, 'increasing')"
      ]
     },
     "execution_count": 73,
     "metadata": {},
     "output_type": "execute_result"
    }
   ],
   "source": [
    "## Assumption 4:Homoscadastic:\n",
    "\n",
    "from statsmodels.stats.api import het_goldfeldquandt\n",
    "\n",
    "het_goldfeldquandt(ols_mod.resid,inp1)\n",
    "\n",
    "## we see that the value is greater than 0.05 hence we accept h0 and it is homoscahdastic "
   ]
  },
  {
   "cell_type": "code",
   "execution_count": 74,
   "metadata": {},
   "outputs": [],
   "source": [
    "## ASSUMPTION 6:\n",
    "## The durbin waston value is around 2 from which we \n",
    "## can conclude that there is no auto-correlation"
   ]
  },
  {
   "cell_type": "code",
   "execution_count": 75,
   "metadata": {},
   "outputs": [
    {
     "data": {
      "text/html": [
       "<table class=\"simpletable\">\n",
       "<caption>OLS Regression Results</caption>\n",
       "<tr>\n",
       "  <th>Dep. Variable:</th>            <td>y</td>        <th>  R-squared:         </th> <td>   0.763</td>\n",
       "</tr>\n",
       "<tr>\n",
       "  <th>Model:</th>                   <td>OLS</td>       <th>  Adj. R-squared:    </th> <td>   0.761</td>\n",
       "</tr>\n",
       "<tr>\n",
       "  <th>Method:</th>             <td>Least Squares</td>  <th>  F-statistic:       </th> <td>   534.1</td>\n",
       "</tr>\n",
       "<tr>\n",
       "  <th>Date:</th>             <td>Thu, 07 Jan 2021</td> <th>  Prob (F-statistic):</th>  <td>  0.00</td> \n",
       "</tr>\n",
       "<tr>\n",
       "  <th>Time:</th>                 <td>22:41:05</td>     <th>  Log-Likelihood:    </th> <td> -840.70</td>\n",
       "</tr>\n",
       "<tr>\n",
       "  <th>No. Observations:</th>      <td>  1338</td>      <th>  AIC:               </th> <td>   1699.</td>\n",
       "</tr>\n",
       "<tr>\n",
       "  <th>Df Residuals:</th>          <td>  1329</td>      <th>  BIC:               </th> <td>   1746.</td>\n",
       "</tr>\n",
       "<tr>\n",
       "  <th>Df Model:</th>              <td>     8</td>      <th>                     </th>     <td> </td>   \n",
       "</tr>\n",
       "<tr>\n",
       "  <th>Covariance Type:</th>      <td>nonrobust</td>    <th>                     </th>     <td> </td>   \n",
       "</tr>\n",
       "</table>\n",
       "<table class=\"simpletable\">\n",
       "<tr>\n",
       "          <td></td>            <th>coef</th>     <th>std err</th>      <th>t</th>      <th>P>|t|</th>  <th>[0.025</th>    <th>0.975]</th>  \n",
       "</tr>\n",
       "<tr>\n",
       "  <th>const</th>            <td>    9.0458</td> <td>    0.012</td> <td>  727.055</td> <td> 0.000</td> <td>    9.021</td> <td>    9.070</td>\n",
       "</tr>\n",
       "<tr>\n",
       "  <th>age</th>              <td>    0.0336</td> <td>    0.001</td> <td>   37.645</td> <td> 0.000</td> <td>    0.032</td> <td>    0.035</td>\n",
       "</tr>\n",
       "<tr>\n",
       "  <th>bmi</th>              <td>    0.0150</td> <td>    0.002</td> <td>    6.915</td> <td> 0.000</td> <td>    0.011</td> <td>    0.019</td>\n",
       "</tr>\n",
       "<tr>\n",
       "  <th>children</th>         <td>    0.1007</td> <td>    0.010</td> <td>    9.734</td> <td> 0.000</td> <td>    0.080</td> <td>    0.121</td>\n",
       "</tr>\n",
       "<tr>\n",
       "  <th>sex_male</th>         <td>   -0.0691</td> <td>    0.025</td> <td>   -2.765</td> <td> 0.006</td> <td>   -0.118</td> <td>   -0.020</td>\n",
       "</tr>\n",
       "<tr>\n",
       "  <th>smoker_yes</th>       <td>    1.6009</td> <td>    0.031</td> <td>   51.613</td> <td> 0.000</td> <td>    1.540</td> <td>    1.662</td>\n",
       "</tr>\n",
       "<tr>\n",
       "  <th>region_northwest</th> <td>   -0.0679</td> <td>    0.036</td> <td>   -1.899</td> <td> 0.058</td> <td>   -0.138</td> <td>    0.002</td>\n",
       "</tr>\n",
       "<tr>\n",
       "  <th>region_southeast</th> <td>   -0.1571</td> <td>    0.036</td> <td>   -4.373</td> <td> 0.000</td> <td>   -0.228</td> <td>   -0.087</td>\n",
       "</tr>\n",
       "<tr>\n",
       "  <th>region_southwest</th> <td>   -0.1227</td> <td>    0.036</td> <td>   -3.419</td> <td> 0.001</td> <td>   -0.193</td> <td>   -0.052</td>\n",
       "</tr>\n",
       "</table>\n",
       "<table class=\"simpletable\">\n",
       "<tr>\n",
       "  <th>Omnibus:</th>       <td>413.891</td> <th>  Durbin-Watson:     </th> <td>   2.046</td> \n",
       "</tr>\n",
       "<tr>\n",
       "  <th>Prob(Omnibus):</th> <td> 0.000</td>  <th>  Jarque-Bera (JB):  </th> <td>1278.273</td> \n",
       "</tr>\n",
       "<tr>\n",
       "  <th>Skew:</th>          <td> 1.548</td>  <th>  Prob(JB):          </th> <td>2.67e-278</td>\n",
       "</tr>\n",
       "<tr>\n",
       "  <th>Kurtosis:</th>      <td> 6.653</td>  <th>  Cond. No.          </th> <td>    57.4</td> \n",
       "</tr>\n",
       "</table><br/><br/>Warnings:<br/>[1] Standard Errors assume that the covariance matrix of the errors is correctly specified."
      ],
      "text/plain": [
       "<class 'statsmodels.iolib.summary.Summary'>\n",
       "\"\"\"\n",
       "                            OLS Regression Results                            \n",
       "==============================================================================\n",
       "Dep. Variable:                      y   R-squared:                       0.763\n",
       "Model:                            OLS   Adj. R-squared:                  0.761\n",
       "Method:                 Least Squares   F-statistic:                     534.1\n",
       "Date:                Thu, 07 Jan 2021   Prob (F-statistic):               0.00\n",
       "Time:                        22:41:05   Log-Likelihood:                -840.70\n",
       "No. Observations:                1338   AIC:                             1699.\n",
       "Df Residuals:                    1329   BIC:                             1746.\n",
       "Df Model:                           8                                         \n",
       "Covariance Type:            nonrobust                                         \n",
       "====================================================================================\n",
       "                       coef    std err          t      P>|t|      [0.025      0.975]\n",
       "------------------------------------------------------------------------------------\n",
       "const                9.0458      0.012    727.055      0.000       9.021       9.070\n",
       "age                  0.0336      0.001     37.645      0.000       0.032       0.035\n",
       "bmi                  0.0150      0.002      6.915      0.000       0.011       0.019\n",
       "children             0.1007      0.010      9.734      0.000       0.080       0.121\n",
       "sex_male            -0.0691      0.025     -2.765      0.006      -0.118      -0.020\n",
       "smoker_yes           1.6009      0.031     51.613      0.000       1.540       1.662\n",
       "region_northwest    -0.0679      0.036     -1.899      0.058      -0.138       0.002\n",
       "region_southeast    -0.1571      0.036     -4.373      0.000      -0.228      -0.087\n",
       "region_southwest    -0.1227      0.036     -3.419      0.001      -0.193      -0.052\n",
       "==============================================================================\n",
       "Omnibus:                      413.891   Durbin-Watson:                   2.046\n",
       "Prob(Omnibus):                  0.000   Jarque-Bera (JB):             1278.273\n",
       "Skew:                           1.548   Prob(JB):                    2.67e-278\n",
       "Kurtosis:                       6.653   Cond. No.                         57.4\n",
       "==============================================================================\n",
       "\n",
       "Warnings:\n",
       "[1] Standard Errors assume that the covariance matrix of the errors is correctly specified.\n",
       "\"\"\""
      ]
     },
     "execution_count": 75,
     "metadata": {},
     "output_type": "execute_result"
    }
   ],
   "source": [
    "\n",
    "import statsmodels.api as smi\n",
    "\n",
    "inpc=smi.add_constant(inp1)\n",
    "ols=smi.OLS(out,inpc)\n",
    "ols_mod=ols.fit()\n",
    "\n",
    "ols_mod.summary()"
   ]
  },
  {
   "cell_type": "code",
   "execution_count": 76,
   "metadata": {},
   "outputs": [],
   "source": [
    "## ASSUMPTIONS THAT ARE SATISFIED:\n",
    "\n",
    "## 1. Multi-collinearity\n",
    "## 2.Linearity\n",
    "## 3. Homoscadasticity\n",
    "## 4. Autocorrelation\n",
    "\n",
    "## We see that there normlality is  not satisfies but since generally arent very strict\n",
    "## with normality assumptionwe can go ahead ."
   ]
  },
  {
   "cell_type": "code",
   "execution_count": 77,
   "metadata": {},
   "outputs": [],
   "source": [
    "## Now once the assumptions are satisfied "
   ]
  },
  {
   "cell_type": "markdown",
   "metadata": {},
   "source": [
    "                                FEATURE SELECTION"
   ]
  },
  {
   "cell_type": "code",
   "execution_count": 78,
   "metadata": {},
   "outputs": [],
   "source": [
    "## we can go in for feature selection:"
   ]
  },
  {
   "cell_type": "code",
   "execution_count": 79,
   "metadata": {},
   "outputs": [],
   "source": [
    "## We will split the data into train and test dataset:\n",
    "\n",
    "from sklearn.model_selection import train_test_split\n",
    "\n",
    "xtrain,xtest,ytrain,ytest=train_test_split(inp1,out,train_size=0.7,random_state=10)"
   ]
  },
  {
   "cell_type": "code",
   "execution_count": 80,
   "metadata": {},
   "outputs": [
    {
     "data": {
      "text/plain": [
       "LinearRegression(copy_X=True, fit_intercept=True, n_jobs=None, normalize=False)"
      ]
     },
     "execution_count": 80,
     "metadata": {},
     "output_type": "execute_result"
    }
   ],
   "source": [
    "## import linear regression and train it with the train data:\n",
    "\n",
    "from sklearn.linear_model import LinearRegression\n",
    "\n",
    "lr=LinearRegression()\n",
    "lr.fit(xtrain,ytrain)"
   ]
  },
  {
   "cell_type": "code",
   "execution_count": 81,
   "metadata": {},
   "outputs": [],
   "source": [
    "## Give the same data and test it \n",
    "ypred_train=lr.predict(xtrain)\n",
    "\n",
    "## Get the r2 and rmse perfomance:\n",
    "from sklearn.metrics import r2_score,mean_squared_error\n",
    "\n",
    "r2_train=r2_score(ypred_train,ytrain)\n",
    "rmse_train=mean_squared_error(ypred_train,ytrain)\n",
    "\n"
   ]
  },
  {
   "cell_type": "code",
   "execution_count": 82,
   "metadata": {},
   "outputs": [],
   "source": [
    "## Give different data and test it:\n",
    "ypred_test=lr.predict(xtest)\n",
    "\n",
    "from sklearn.metrics import r2_score,mean_squared_error\n",
    "\n",
    "r2_test=r2_score(ypred_test,ytest)\n",
    "\n",
    "rmse_test=np.sqrt(mean_squared_error(ypred_test,ytest))\n",
    "\n",
    "\n",
    "res_lr=[r2_train,r2_test,rmse_train,rmse_test]\n"
   ]
  },
  {
   "cell_type": "code",
   "execution_count": 83,
   "metadata": {},
   "outputs": [],
   "source": [
    "## In order to do feature selection we will be going for three methods:\n",
    "\n",
    "## 1. Backward elimination \n",
    "## 2. Forward selection \n",
    "## 3. Recursve feature elimination "
   ]
  },
  {
   "cell_type": "code",
   "execution_count": 85,
   "metadata": {},
   "outputs": [
    {
     "data": {
      "text/plain": [
       "['age',\n",
       " 'bmi',\n",
       " 'children',\n",
       " 'sex_male',\n",
       " 'smoker_yes',\n",
       " 'region_northwest',\n",
       " 'region_southeast',\n",
       " 'region_southwest']"
      ]
     },
     "execution_count": 85,
     "metadata": {},
     "output_type": "execute_result"
    }
   ],
   "source": [
    "## BackWard elimination :\n",
    "\n",
    "from mlxtend.feature_selection import SequentialFeatureSelector as sfs\n",
    "\n",
    "lr=LinearRegression()\n",
    "lr_backward=sfs(estimator=lr,forward=False,k_features='best',scoring='r2')\n",
    "sfs_backward=lr_backward.fit(inp1,out)\n",
    "back_feat=list(sfs_backward.k_feature_names_)\n",
    "\n",
    "## As per backward selection all columns play a significant role in computation of medical insurance ch"
   ]
  },
  {
   "cell_type": "code",
   "execution_count": 551,
   "metadata": {},
   "outputs": [],
   "source": [
    "## Forward selection:\n",
    "\n",
    "from mlxtend.feature_selection import SequentialFeatureSelector as sfs \n",
    "\n",
    "lr=LinearRegression()\n",
    "lr_forward=sfs(estimator=lr,forward=True,k_features='best',scoring='r2')\n",
    "sfs_forward=lr_backward.fit(inp1,out)\n",
    "\n",
    "for_feat=list(sfs_forward.k_feature_names_)\n",
    "\n",
    "## we see that all feature play a significant role in contributing to the insurance charges\n"
   ]
  },
  {
   "cell_type": "code",
   "execution_count": 552,
   "metadata": {},
   "outputs": [],
   "source": [
    "## Recursive feature elimination:\n",
    "\n",
    "from sklearn.feature_selection import RFECV\n",
    "\n",
    "lr=LinearRegression()\n",
    "rfe=RFECV(estimator=lr)\n",
    "rfe_mod=rfe.fit(inp1,out)\n",
    "rfe_mod.ranking_\n",
    "\n",
    "## Thus all features are important \n",
    "rfe_feat=list(inp1.columns)"
   ]
  },
  {
   "cell_type": "code",
   "execution_count": 553,
   "metadata": {},
   "outputs": [],
   "source": [
    "## r2 and rmse for backward\n",
    "\n",
    "from sklearn.metrics import r2_score,mean_squared_error\n",
    "lr=LinearRegression()\n",
    "lr.fit(xtrain[back_feat],ytrain)\n",
    "\n",
    "ypred_train=lr.predict(xtrain[back_feat])\n",
    "ypred_test=lr.predict(xtest[back_feat])\n",
    "\n",
    "r2_train=r2_score(ypred_train,ytrain)\n",
    "r2_test=r2_score(ypred_test,ytest)\n",
    "\n",
    "rmse_train=np.sqrt(mean_squared_error(ypred_train,ytrain))\n",
    "rmse_test=np.sqrt(mean_squared_error(ypred_test,ytest))\n",
    "\n",
    "res_back=[r2_train,r2_test,rmse_train,rmse_test]"
   ]
  },
  {
   "cell_type": "code",
   "execution_count": 554,
   "metadata": {},
   "outputs": [],
   "source": [
    "## r2 and rmse for forward :\n",
    "\n",
    "from sklearn.metrics import r2_score,mean_squared_error\n",
    "\n",
    "lr=LinearRegression()\n",
    "lr.fit(xtrain[for_feat],ytrain)\n",
    "\n",
    "ypred_train=lr.predict(xtrain[for_feat])\n",
    "ypred_test=lr.predict(xtest[for_feat])\n",
    "\n",
    "r2_test=r2_score(ypred_train,ytrain)\n",
    "r2_train=r2_score(ypred_test,ytest)\n",
    "\n",
    "\n",
    "rmse_train=np.sqrt(mean_squared_error(ypred_train,ytrain))\n",
    "rmse_test=np.sqrt(mean_squared_error(ypred_test,ytest))\n",
    "\n",
    "res_for=[r2_test,r2_train,rmse_train,rmse_test]\n",
    "\n"
   ]
  },
  {
   "cell_type": "code",
   "execution_count": 555,
   "metadata": {},
   "outputs": [],
   "source": [
    "## r2 and rmse for rfe:\n",
    "\n",
    "from sklearn.metrics import r2_score,mean_squared_error\n",
    "\n",
    "lr=LinearRegression()\n",
    "lr.fit(xtrain[rfe_feat],ytrain)\n",
    "\n",
    "ypred_train=lr.predict(xtrain[rfe_feat])\n",
    "ypred_test=lr.predict(xtest[rfe_feat])\n",
    "\n",
    "r2_train=r2_score(ytrain,ypred_train)\n",
    "r2_test=r2_score(ytest,ypred_test)\n",
    "\n",
    "rmse_train=np.sqrt(mean_squared_error(ytrain,ypred_train))\n",
    "rmse_test=np.sqrt(mean_squared_error(ytest,ypred_test))\n",
    "                   \n",
    "res_rfe=[r2_train,r2_test,rmse_train,rmse_test]\n",
    "                   \n",
    "                   \n",
    "\n"
   ]
  },
  {
   "cell_type": "code",
   "execution_count": 556,
   "metadata": {},
   "outputs": [
    {
     "data": {
      "text/html": [
       "<div>\n",
       "<style scoped>\n",
       "    .dataframe tbody tr th:only-of-type {\n",
       "        vertical-align: middle;\n",
       "    }\n",
       "\n",
       "    .dataframe tbody tr th {\n",
       "        vertical-align: top;\n",
       "    }\n",
       "\n",
       "    .dataframe thead th {\n",
       "        text-align: right;\n",
       "    }\n",
       "</style>\n",
       "<table border=\"1\" class=\"dataframe\">\n",
       "  <thead>\n",
       "    <tr style=\"text-align: right;\">\n",
       "      <th></th>\n",
       "      <th>Linear_regression</th>\n",
       "      <th>Backward_Elimination</th>\n",
       "      <th>Forward_Selection</th>\n",
       "      <th>Recursive_Feature_Elimination</th>\n",
       "    </tr>\n",
       "  </thead>\n",
       "  <tbody>\n",
       "    <tr>\n",
       "      <th>r2_train</th>\n",
       "      <td>0.705743</td>\n",
       "      <td>0.772644</td>\n",
       "      <td>0.705743</td>\n",
       "      <td>0.772644</td>\n",
       "    </tr>\n",
       "    <tr>\n",
       "      <th>r2_test</th>\n",
       "      <td>0.670012</td>\n",
       "      <td>0.735880</td>\n",
       "      <td>0.670012</td>\n",
       "      <td>0.735880</td>\n",
       "    </tr>\n",
       "    <tr>\n",
       "      <th>rmse_train</th>\n",
       "      <td>0.203263</td>\n",
       "      <td>0.450847</td>\n",
       "      <td>0.450847</td>\n",
       "      <td>0.450847</td>\n",
       "    </tr>\n",
       "    <tr>\n",
       "      <th>rmse_test</th>\n",
       "      <td>0.461012</td>\n",
       "      <td>0.461012</td>\n",
       "      <td>0.461012</td>\n",
       "      <td>0.461012</td>\n",
       "    </tr>\n",
       "  </tbody>\n",
       "</table>\n",
       "</div>"
      ],
      "text/plain": [
       "            Linear_regression  Backward_Elimination  Forward_Selection  \\\n",
       "r2_train             0.705743              0.772644           0.705743   \n",
       "r2_test              0.670012              0.735880           0.670012   \n",
       "rmse_train           0.203263              0.450847           0.450847   \n",
       "rmse_test            0.461012              0.461012           0.461012   \n",
       "\n",
       "            Recursive_Feature_Elimination  \n",
       "r2_train                         0.772644  \n",
       "r2_test                          0.735880  \n",
       "rmse_train                       0.450847  \n",
       "rmse_test                        0.461012  "
      ]
     },
     "execution_count": 556,
     "metadata": {},
     "output_type": "execute_result"
    }
   ],
   "source": [
    "## To create a score card to compare the train and test perfomace:\n",
    "score_card=pd.DataFrame()\n",
    "\n",
    "score_card['Linear_regression']=res_lr\n",
    "score_card['Backward_Elimination']=res_rfe\n",
    "score_card['Forward_Selection']=res_for\n",
    "score_card['Recursive_Feature_Elimination']=res_rfe\n",
    "\n",
    "score_card.index=['r2_train','r2_test','rmse_train','rmse_test']\n",
    "\n",
    "score_card"
   ]
  },
  {
   "cell_type": "markdown",
   "metadata": {},
   "source": [
    "                      CHECKING FOR BIAS AND VARIANCE ERROR"
   ]
  },
  {
   "cell_type": "code",
   "execution_count": 557,
   "metadata": {},
   "outputs": [
    {
     "data": {
      "text/plain": [
       "(0.7587453285736929, 0.04790028963923784, 0.06313091868292872)"
      ]
     },
     "execution_count": 557,
     "metadata": {},
     "output_type": "execute_result"
    }
   ],
   "source": [
    "## We see that backward Elimination and Rfe is giving least difference between train and test \n",
    "## To make sure that train and test is a representative of the overall data.\n",
    "## We need to ensure we do a Cross Validation\n",
    "\n",
    "from sklearn.model_selection import cross_val_score\n",
    "\n",
    "lr=LinearRegression()\n",
    "score=cross_val_score(lr,inp1[back_feat],out,cv=5,scoring='r2')\n",
    "avg_score=np.mean(score)\n",
    "ve=np.std(score)\n",
    "cve=(np.std(score))/(np.mean(score))\n",
    "\n",
    "avg_score,ve,cve\n"
   ]
  },
  {
   "cell_type": "code",
   "execution_count": 558,
   "metadata": {},
   "outputs": [
    {
     "data": {
      "text/plain": [
       "(0.7587453285736929, 0.04790028963923784, 0.06313091868292872)"
      ]
     },
     "execution_count": 558,
     "metadata": {},
     "output_type": "execute_result"
    }
   ],
   "source": [
    "## to do a cross validation rfe:\n",
    "\n",
    "from sklearn.model_selection import cross_val_score\n",
    "\n",
    "lr=LinearRegression()\n",
    "score=cross_val_score(lr,inp1[rfe_feat],out,cv=5,scoring='r2')\n",
    "avg_score=np.mean(score)\n",
    "ve=np.std(score)\n",
    "cve=(np.std(score))/(np.mean(score))\n",
    "\n",
    "avg_score,ve,cve"
   ]
  },
  {
   "cell_type": "markdown",
   "metadata": {},
   "source": [
    "                                  REGULARISATION"
   ]
  },
  {
   "cell_type": "code",
   "execution_count": 559,
   "metadata": {},
   "outputs": [],
   "source": [
    "## 1. We see that the model perfomance is good , so less bias error\n",
    "## 2. The variance error is less than 10% \n",
    "## 3. In order to make sure that this data works well for any test data , it is better to do \n",
    "## some amount of  regularisation "
   ]
  },
  {
   "cell_type": "code",
   "execution_count": 560,
   "metadata": {},
   "outputs": [],
   "source": [
    "## Import necessary libraries for Regularisation:\n",
    "\n",
    "\n",
    "from sklearn.model_selection import GridSearchCV\n",
    "\n",
    "from sklearn.linear_model import Ridge,Lasso,ElasticNet"
   ]
  },
  {
   "cell_type": "code",
   "execution_count": 561,
   "metadata": {},
   "outputs": [
    {
     "name": "stdout",
     "output_type": "stream",
     "text": [
      "The best alpha value is: {'alpha': 0.001}\n"
     ]
    },
    {
     "data": {
      "text/html": [
       "<div>\n",
       "<style scoped>\n",
       "    .dataframe tbody tr th:only-of-type {\n",
       "        vertical-align: middle;\n",
       "    }\n",
       "\n",
       "    .dataframe tbody tr th {\n",
       "        vertical-align: top;\n",
       "    }\n",
       "\n",
       "    .dataframe thead th {\n",
       "        text-align: right;\n",
       "    }\n",
       "</style>\n",
       "<table border=\"1\" class=\"dataframe\">\n",
       "  <thead>\n",
       "    <tr style=\"text-align: right;\">\n",
       "      <th></th>\n",
       "      <th>mean_fit_time</th>\n",
       "      <th>std_fit_time</th>\n",
       "      <th>mean_score_time</th>\n",
       "      <th>std_score_time</th>\n",
       "      <th>param_alpha</th>\n",
       "      <th>params</th>\n",
       "      <th>split0_test_score</th>\n",
       "      <th>split1_test_score</th>\n",
       "      <th>split2_test_score</th>\n",
       "      <th>split3_test_score</th>\n",
       "      <th>split4_test_score</th>\n",
       "      <th>mean_test_score</th>\n",
       "      <th>std_test_score</th>\n",
       "      <th>rank_test_score</th>\n",
       "    </tr>\n",
       "  </thead>\n",
       "  <tbody>\n",
       "    <tr>\n",
       "      <th>12</th>\n",
       "      <td>0.006600</td>\n",
       "      <td>0.002059</td>\n",
       "      <td>0.002395</td>\n",
       "      <td>0.000801</td>\n",
       "      <td>20</td>\n",
       "      <td>{'alpha': 20}</td>\n",
       "      <td>0.066627</td>\n",
       "      <td>0.060826</td>\n",
       "      <td>0.065210</td>\n",
       "      <td>0.065315</td>\n",
       "      <td>0.065743</td>\n",
       "      <td>0.064744</td>\n",
       "      <td>0.002022</td>\n",
       "      <td>13</td>\n",
       "    </tr>\n",
       "    <tr>\n",
       "      <th>13</th>\n",
       "      <td>0.003998</td>\n",
       "      <td>0.000632</td>\n",
       "      <td>0.001798</td>\n",
       "      <td>0.000747</td>\n",
       "      <td>30</td>\n",
       "      <td>{'alpha': 30}</td>\n",
       "      <td>0.045437</td>\n",
       "      <td>0.036901</td>\n",
       "      <td>0.041726</td>\n",
       "      <td>0.042142</td>\n",
       "      <td>0.041288</td>\n",
       "      <td>0.041499</td>\n",
       "      <td>0.002726</td>\n",
       "      <td>14</td>\n",
       "    </tr>\n",
       "    <tr>\n",
       "      <th>11</th>\n",
       "      <td>0.004198</td>\n",
       "      <td>0.000748</td>\n",
       "      <td>0.002198</td>\n",
       "      <td>0.000399</td>\n",
       "      <td>10</td>\n",
       "      <td>{'alpha': 10}</td>\n",
       "      <td>0.124393</td>\n",
       "      <td>0.125851</td>\n",
       "      <td>0.129127</td>\n",
       "      <td>0.128238</td>\n",
       "      <td>0.132318</td>\n",
       "      <td>0.127985</td>\n",
       "      <td>0.002742</td>\n",
       "      <td>12</td>\n",
       "    </tr>\n",
       "    <tr>\n",
       "      <th>14</th>\n",
       "      <td>0.003199</td>\n",
       "      <td>0.000978</td>\n",
       "      <td>0.001398</td>\n",
       "      <td>0.000491</td>\n",
       "      <td>50</td>\n",
       "      <td>{'alpha': 50}</td>\n",
       "      <td>0.027708</td>\n",
       "      <td>0.016856</td>\n",
       "      <td>0.022064</td>\n",
       "      <td>0.022720</td>\n",
       "      <td>0.020816</td>\n",
       "      <td>0.022033</td>\n",
       "      <td>0.003492</td>\n",
       "      <td>15</td>\n",
       "    </tr>\n",
       "    <tr>\n",
       "      <th>15</th>\n",
       "      <td>0.002399</td>\n",
       "      <td>0.000799</td>\n",
       "      <td>0.001400</td>\n",
       "      <td>0.000489</td>\n",
       "      <td>100</td>\n",
       "      <td>{'alpha': 100}</td>\n",
       "      <td>0.013932</td>\n",
       "      <td>0.001266</td>\n",
       "      <td>0.006775</td>\n",
       "      <td>0.007607</td>\n",
       "      <td>0.004902</td>\n",
       "      <td>0.006896</td>\n",
       "      <td>0.004140</td>\n",
       "      <td>16</td>\n",
       "    </tr>\n",
       "    <tr>\n",
       "      <th>10</th>\n",
       "      <td>0.005198</td>\n",
       "      <td>0.000400</td>\n",
       "      <td>0.002398</td>\n",
       "      <td>0.000489</td>\n",
       "      <td>5</td>\n",
       "      <td>{'alpha': 5}</td>\n",
       "      <td>0.218778</td>\n",
       "      <td>0.231329</td>\n",
       "      <td>0.233263</td>\n",
       "      <td>0.230134</td>\n",
       "      <td>0.240727</td>\n",
       "      <td>0.230846</td>\n",
       "      <td>0.007069</td>\n",
       "      <td>11</td>\n",
       "    </tr>\n",
       "    <tr>\n",
       "      <th>9</th>\n",
       "      <td>0.004198</td>\n",
       "      <td>0.000749</td>\n",
       "      <td>0.002199</td>\n",
       "      <td>0.000399</td>\n",
       "      <td>2</td>\n",
       "      <td>{'alpha': 2}</td>\n",
       "      <td>0.398016</td>\n",
       "      <td>0.427675</td>\n",
       "      <td>0.430166</td>\n",
       "      <td>0.419314</td>\n",
       "      <td>0.444530</td>\n",
       "      <td>0.423940</td>\n",
       "      <td>0.015298</td>\n",
       "      <td>10</td>\n",
       "    </tr>\n",
       "    <tr>\n",
       "      <th>8</th>\n",
       "      <td>0.004398</td>\n",
       "      <td>0.000800</td>\n",
       "      <td>0.002398</td>\n",
       "      <td>0.000799</td>\n",
       "      <td>1</td>\n",
       "      <td>{'alpha': 1}</td>\n",
       "      <td>0.540178</td>\n",
       "      <td>0.576731</td>\n",
       "      <td>0.586008</td>\n",
       "      <td>0.562775</td>\n",
       "      <td>0.602282</td>\n",
       "      <td>0.573595</td>\n",
       "      <td>0.021074</td>\n",
       "      <td>9</td>\n",
       "    </tr>\n",
       "    <tr>\n",
       "      <th>7</th>\n",
       "      <td>0.002799</td>\n",
       "      <td>0.000748</td>\n",
       "      <td>0.001800</td>\n",
       "      <td>0.000400</td>\n",
       "      <td>0.8</td>\n",
       "      <td>{'alpha': 0.8}</td>\n",
       "      <td>0.579546</td>\n",
       "      <td>0.616084</td>\n",
       "      <td>0.629273</td>\n",
       "      <td>0.600744</td>\n",
       "      <td>0.644732</td>\n",
       "      <td>0.614076</td>\n",
       "      <td>0.022560</td>\n",
       "      <td>8</td>\n",
       "    </tr>\n",
       "    <tr>\n",
       "      <th>6</th>\n",
       "      <td>0.003198</td>\n",
       "      <td>0.000979</td>\n",
       "      <td>0.001799</td>\n",
       "      <td>0.000401</td>\n",
       "      <td>0.5</td>\n",
       "      <td>{'alpha': 0.5}</td>\n",
       "      <td>0.646318</td>\n",
       "      <td>0.679317</td>\n",
       "      <td>0.703110</td>\n",
       "      <td>0.662091</td>\n",
       "      <td>0.714276</td>\n",
       "      <td>0.681022</td>\n",
       "      <td>0.025137</td>\n",
       "      <td>7</td>\n",
       "    </tr>\n",
       "    <tr>\n",
       "      <th>5</th>\n",
       "      <td>0.003997</td>\n",
       "      <td>0.001095</td>\n",
       "      <td>0.001999</td>\n",
       "      <td>0.000632</td>\n",
       "      <td>0.2</td>\n",
       "      <td>{'alpha': 0.2}</td>\n",
       "      <td>0.716257</td>\n",
       "      <td>0.735173</td>\n",
       "      <td>0.782565</td>\n",
       "      <td>0.717662</td>\n",
       "      <td>0.779175</td>\n",
       "      <td>0.746166</td>\n",
       "      <td>0.029129</td>\n",
       "      <td>6</td>\n",
       "    </tr>\n",
       "    <tr>\n",
       "      <th>4</th>\n",
       "      <td>0.005797</td>\n",
       "      <td>0.001470</td>\n",
       "      <td>0.002997</td>\n",
       "      <td>0.001672</td>\n",
       "      <td>0.1</td>\n",
       "      <td>{'alpha': 0.1}</td>\n",
       "      <td>0.735729</td>\n",
       "      <td>0.744876</td>\n",
       "      <td>0.806349</td>\n",
       "      <td>0.728289</td>\n",
       "      <td>0.792350</td>\n",
       "      <td>0.761519</td>\n",
       "      <td>0.031644</td>\n",
       "      <td>5</td>\n",
       "    </tr>\n",
       "    <tr>\n",
       "      <th>3</th>\n",
       "      <td>0.005397</td>\n",
       "      <td>0.001018</td>\n",
       "      <td>0.002398</td>\n",
       "      <td>0.000489</td>\n",
       "      <td>0.01</td>\n",
       "      <td>{'alpha': 0.01}</td>\n",
       "      <td>0.747597</td>\n",
       "      <td>0.744227</td>\n",
       "      <td>0.823265</td>\n",
       "      <td>0.729226</td>\n",
       "      <td>0.794444</td>\n",
       "      <td>0.767752</td>\n",
       "      <td>0.035321</td>\n",
       "      <td>4</td>\n",
       "    </tr>\n",
       "    <tr>\n",
       "      <th>2</th>\n",
       "      <td>0.004197</td>\n",
       "      <td>0.000399</td>\n",
       "      <td>0.001999</td>\n",
       "      <td>0.000632</td>\n",
       "      <td>0.001</td>\n",
       "      <td>{'alpha': 0.001}</td>\n",
       "      <td>0.748312</td>\n",
       "      <td>0.743455</td>\n",
       "      <td>0.824587</td>\n",
       "      <td>0.728652</td>\n",
       "      <td>0.793883</td>\n",
       "      <td>0.767778</td>\n",
       "      <td>0.035805</td>\n",
       "      <td>1</td>\n",
       "    </tr>\n",
       "    <tr>\n",
       "      <th>1</th>\n",
       "      <td>0.003998</td>\n",
       "      <td>0.000001</td>\n",
       "      <td>0.001799</td>\n",
       "      <td>0.000400</td>\n",
       "      <td>0.0001</td>\n",
       "      <td>{'alpha': 0.0001}</td>\n",
       "      <td>0.748377</td>\n",
       "      <td>0.743369</td>\n",
       "      <td>0.824715</td>\n",
       "      <td>0.728587</td>\n",
       "      <td>0.793817</td>\n",
       "      <td>0.767773</td>\n",
       "      <td>0.035855</td>\n",
       "      <td>2</td>\n",
       "    </tr>\n",
       "    <tr>\n",
       "      <th>0</th>\n",
       "      <td>0.003598</td>\n",
       "      <td>0.000800</td>\n",
       "      <td>0.002199</td>\n",
       "      <td>0.000748</td>\n",
       "      <td>1e-05</td>\n",
       "      <td>{'alpha': 1e-05}</td>\n",
       "      <td>0.748384</td>\n",
       "      <td>0.743361</td>\n",
       "      <td>0.824727</td>\n",
       "      <td>0.728580</td>\n",
       "      <td>0.793810</td>\n",
       "      <td>0.767772</td>\n",
       "      <td>0.035860</td>\n",
       "      <td>3</td>\n",
       "    </tr>\n",
       "  </tbody>\n",
       "</table>\n",
       "</div>"
      ],
      "text/plain": [
       "    mean_fit_time  std_fit_time  mean_score_time  std_score_time param_alpha  \\\n",
       "12       0.006600      0.002059         0.002395        0.000801          20   \n",
       "13       0.003998      0.000632         0.001798        0.000747          30   \n",
       "11       0.004198      0.000748         0.002198        0.000399          10   \n",
       "14       0.003199      0.000978         0.001398        0.000491          50   \n",
       "15       0.002399      0.000799         0.001400        0.000489         100   \n",
       "10       0.005198      0.000400         0.002398        0.000489           5   \n",
       "9        0.004198      0.000749         0.002199        0.000399           2   \n",
       "8        0.004398      0.000800         0.002398        0.000799           1   \n",
       "7        0.002799      0.000748         0.001800        0.000400         0.8   \n",
       "6        0.003198      0.000979         0.001799        0.000401         0.5   \n",
       "5        0.003997      0.001095         0.001999        0.000632         0.2   \n",
       "4        0.005797      0.001470         0.002997        0.001672         0.1   \n",
       "3        0.005397      0.001018         0.002398        0.000489        0.01   \n",
       "2        0.004197      0.000399         0.001999        0.000632       0.001   \n",
       "1        0.003998      0.000001         0.001799        0.000400      0.0001   \n",
       "0        0.003598      0.000800         0.002199        0.000748       1e-05   \n",
       "\n",
       "               params  split0_test_score  split1_test_score  \\\n",
       "12      {'alpha': 20}           0.066627           0.060826   \n",
       "13      {'alpha': 30}           0.045437           0.036901   \n",
       "11      {'alpha': 10}           0.124393           0.125851   \n",
       "14      {'alpha': 50}           0.027708           0.016856   \n",
       "15     {'alpha': 100}           0.013932           0.001266   \n",
       "10       {'alpha': 5}           0.218778           0.231329   \n",
       "9        {'alpha': 2}           0.398016           0.427675   \n",
       "8        {'alpha': 1}           0.540178           0.576731   \n",
       "7      {'alpha': 0.8}           0.579546           0.616084   \n",
       "6      {'alpha': 0.5}           0.646318           0.679317   \n",
       "5      {'alpha': 0.2}           0.716257           0.735173   \n",
       "4      {'alpha': 0.1}           0.735729           0.744876   \n",
       "3     {'alpha': 0.01}           0.747597           0.744227   \n",
       "2    {'alpha': 0.001}           0.748312           0.743455   \n",
       "1   {'alpha': 0.0001}           0.748377           0.743369   \n",
       "0    {'alpha': 1e-05}           0.748384           0.743361   \n",
       "\n",
       "    split2_test_score  split3_test_score  split4_test_score  mean_test_score  \\\n",
       "12           0.065210           0.065315           0.065743         0.064744   \n",
       "13           0.041726           0.042142           0.041288         0.041499   \n",
       "11           0.129127           0.128238           0.132318         0.127985   \n",
       "14           0.022064           0.022720           0.020816         0.022033   \n",
       "15           0.006775           0.007607           0.004902         0.006896   \n",
       "10           0.233263           0.230134           0.240727         0.230846   \n",
       "9            0.430166           0.419314           0.444530         0.423940   \n",
       "8            0.586008           0.562775           0.602282         0.573595   \n",
       "7            0.629273           0.600744           0.644732         0.614076   \n",
       "6            0.703110           0.662091           0.714276         0.681022   \n",
       "5            0.782565           0.717662           0.779175         0.746166   \n",
       "4            0.806349           0.728289           0.792350         0.761519   \n",
       "3            0.823265           0.729226           0.794444         0.767752   \n",
       "2            0.824587           0.728652           0.793883         0.767778   \n",
       "1            0.824715           0.728587           0.793817         0.767773   \n",
       "0            0.824727           0.728580           0.793810         0.767772   \n",
       "\n",
       "    std_test_score  rank_test_score  \n",
       "12        0.002022               13  \n",
       "13        0.002726               14  \n",
       "11        0.002742               12  \n",
       "14        0.003492               15  \n",
       "15        0.004140               16  \n",
       "10        0.007069               11  \n",
       "9         0.015298               10  \n",
       "8         0.021074                9  \n",
       "7         0.022560                8  \n",
       "6         0.025137                7  \n",
       "5         0.029129                6  \n",
       "4         0.031644                5  \n",
       "3         0.035321                4  \n",
       "2         0.035805                1  \n",
       "1         0.035855                2  \n",
       "0         0.035860                3  "
      ]
     },
     "execution_count": 561,
     "metadata": {},
     "output_type": "execute_result"
    }
   ],
   "source": [
    "## For ridge model \n",
    "rid=Ridge(normalize=True)\n",
    "param={'alpha':[0.00001,0.0001,0.001,0.01,0.1,0.2,0.5,0.8,1,2,5,10,20,30,50,100]}\n",
    "rid_mod=GridSearchCV(rid,param_grid=param,scoring='r2')\n",
    "rid_mod.fit(xtrain,ytrain)\n",
    "\n",
    "print('The best alpha value is:',rid_mod.best_params_)\n",
    "\n",
    "## Let us see the overall value for all alphas\n",
    "\n",
    "rid_results=pd.DataFrame(rid_mod.cv_results_)\n",
    "rid_results.sort_values('std_test_score')"
   ]
  },
  {
   "cell_type": "code",
   "execution_count": 562,
   "metadata": {},
   "outputs": [],
   "source": [
    "## From ridge we can go with:\n",
    "## {'alpha': 0.001}\t,mean_r2_vale:0.767778,mean_std_vale:\t0.035805\t"
   ]
  },
  {
   "cell_type": "code",
   "execution_count": 563,
   "metadata": {},
   "outputs": [
    {
     "name": "stdout",
     "output_type": "stream",
     "text": [
      "The best alpha value is {'alpha': 1e-05}\n"
     ]
    },
    {
     "data": {
      "text/html": [
       "<div>\n",
       "<style scoped>\n",
       "    .dataframe tbody tr th:only-of-type {\n",
       "        vertical-align: middle;\n",
       "    }\n",
       "\n",
       "    .dataframe tbody tr th {\n",
       "        vertical-align: top;\n",
       "    }\n",
       "\n",
       "    .dataframe thead th {\n",
       "        text-align: right;\n",
       "    }\n",
       "</style>\n",
       "<table border=\"1\" class=\"dataframe\">\n",
       "  <thead>\n",
       "    <tr style=\"text-align: right;\">\n",
       "      <th></th>\n",
       "      <th>mean_fit_time</th>\n",
       "      <th>std_fit_time</th>\n",
       "      <th>mean_score_time</th>\n",
       "      <th>std_score_time</th>\n",
       "      <th>param_alpha</th>\n",
       "      <th>params</th>\n",
       "      <th>split0_test_score</th>\n",
       "      <th>split1_test_score</th>\n",
       "      <th>split2_test_score</th>\n",
       "      <th>split3_test_score</th>\n",
       "      <th>split4_test_score</th>\n",
       "      <th>mean_test_score</th>\n",
       "      <th>std_test_score</th>\n",
       "      <th>rank_test_score</th>\n",
       "    </tr>\n",
       "  </thead>\n",
       "  <tbody>\n",
       "    <tr>\n",
       "      <th>4</th>\n",
       "      <td>0.003399</td>\n",
       "      <td>0.000490</td>\n",
       "      <td>0.001800</td>\n",
       "      <td>1.165030e-03</td>\n",
       "      <td>0.1</td>\n",
       "      <td>{'alpha': 0.1}</td>\n",
       "      <td>-0.000274</td>\n",
       "      <td>-0.014827</td>\n",
       "      <td>-0.009001</td>\n",
       "      <td>-0.007996</td>\n",
       "      <td>-0.011516</td>\n",
       "      <td>-0.008723</td>\n",
       "      <td>0.004838</td>\n",
       "      <td>5</td>\n",
       "    </tr>\n",
       "    <tr>\n",
       "      <th>5</th>\n",
       "      <td>0.003201</td>\n",
       "      <td>0.001166</td>\n",
       "      <td>0.001996</td>\n",
       "      <td>6.782160e-06</td>\n",
       "      <td>0.2</td>\n",
       "      <td>{'alpha': 0.2}</td>\n",
       "      <td>-0.000274</td>\n",
       "      <td>-0.014827</td>\n",
       "      <td>-0.009001</td>\n",
       "      <td>-0.007996</td>\n",
       "      <td>-0.011516</td>\n",
       "      <td>-0.008723</td>\n",
       "      <td>0.004838</td>\n",
       "      <td>5</td>\n",
       "    </tr>\n",
       "    <tr>\n",
       "      <th>6</th>\n",
       "      <td>0.002199</td>\n",
       "      <td>0.000400</td>\n",
       "      <td>0.001200</td>\n",
       "      <td>3.988269e-04</td>\n",
       "      <td>0.5</td>\n",
       "      <td>{'alpha': 0.5}</td>\n",
       "      <td>-0.000274</td>\n",
       "      <td>-0.014827</td>\n",
       "      <td>-0.009001</td>\n",
       "      <td>-0.007996</td>\n",
       "      <td>-0.011516</td>\n",
       "      <td>-0.008723</td>\n",
       "      <td>0.004838</td>\n",
       "      <td>5</td>\n",
       "    </tr>\n",
       "    <tr>\n",
       "      <th>7</th>\n",
       "      <td>0.002998</td>\n",
       "      <td>0.000632</td>\n",
       "      <td>0.000999</td>\n",
       "      <td>1.451027e-06</td>\n",
       "      <td>0.8</td>\n",
       "      <td>{'alpha': 0.8}</td>\n",
       "      <td>-0.000274</td>\n",
       "      <td>-0.014827</td>\n",
       "      <td>-0.009001</td>\n",
       "      <td>-0.007996</td>\n",
       "      <td>-0.011516</td>\n",
       "      <td>-0.008723</td>\n",
       "      <td>0.004838</td>\n",
       "      <td>5</td>\n",
       "    </tr>\n",
       "    <tr>\n",
       "      <th>8</th>\n",
       "      <td>0.003198</td>\n",
       "      <td>0.000400</td>\n",
       "      <td>0.000999</td>\n",
       "      <td>3.147125e-06</td>\n",
       "      <td>1</td>\n",
       "      <td>{'alpha': 1}</td>\n",
       "      <td>-0.000274</td>\n",
       "      <td>-0.014827</td>\n",
       "      <td>-0.009001</td>\n",
       "      <td>-0.007996</td>\n",
       "      <td>-0.011516</td>\n",
       "      <td>-0.008723</td>\n",
       "      <td>0.004838</td>\n",
       "      <td>5</td>\n",
       "    </tr>\n",
       "    <tr>\n",
       "      <th>9</th>\n",
       "      <td>0.002599</td>\n",
       "      <td>0.000490</td>\n",
       "      <td>0.001398</td>\n",
       "      <td>4.885025e-04</td>\n",
       "      <td>2</td>\n",
       "      <td>{'alpha': 2}</td>\n",
       "      <td>-0.000274</td>\n",
       "      <td>-0.014827</td>\n",
       "      <td>-0.009001</td>\n",
       "      <td>-0.007996</td>\n",
       "      <td>-0.011516</td>\n",
       "      <td>-0.008723</td>\n",
       "      <td>0.004838</td>\n",
       "      <td>5</td>\n",
       "    </tr>\n",
       "    <tr>\n",
       "      <th>10</th>\n",
       "      <td>0.002998</td>\n",
       "      <td>0.000631</td>\n",
       "      <td>0.000998</td>\n",
       "      <td>2.960233e-06</td>\n",
       "      <td>5</td>\n",
       "      <td>{'alpha': 5}</td>\n",
       "      <td>-0.000274</td>\n",
       "      <td>-0.014827</td>\n",
       "      <td>-0.009001</td>\n",
       "      <td>-0.007996</td>\n",
       "      <td>-0.011516</td>\n",
       "      <td>-0.008723</td>\n",
       "      <td>0.004838</td>\n",
       "      <td>5</td>\n",
       "    </tr>\n",
       "    <tr>\n",
       "      <th>11</th>\n",
       "      <td>0.003398</td>\n",
       "      <td>0.000800</td>\n",
       "      <td>0.001599</td>\n",
       "      <td>4.889297e-04</td>\n",
       "      <td>10</td>\n",
       "      <td>{'alpha': 10}</td>\n",
       "      <td>-0.000274</td>\n",
       "      <td>-0.014827</td>\n",
       "      <td>-0.009001</td>\n",
       "      <td>-0.007996</td>\n",
       "      <td>-0.011516</td>\n",
       "      <td>-0.008723</td>\n",
       "      <td>0.004838</td>\n",
       "      <td>5</td>\n",
       "    </tr>\n",
       "    <tr>\n",
       "      <th>12</th>\n",
       "      <td>0.002799</td>\n",
       "      <td>0.000748</td>\n",
       "      <td>0.001400</td>\n",
       "      <td>4.907630e-04</td>\n",
       "      <td>20</td>\n",
       "      <td>{'alpha': 20}</td>\n",
       "      <td>-0.000274</td>\n",
       "      <td>-0.014827</td>\n",
       "      <td>-0.009001</td>\n",
       "      <td>-0.007996</td>\n",
       "      <td>-0.011516</td>\n",
       "      <td>-0.008723</td>\n",
       "      <td>0.004838</td>\n",
       "      <td>5</td>\n",
       "    </tr>\n",
       "    <tr>\n",
       "      <th>13</th>\n",
       "      <td>0.002199</td>\n",
       "      <td>0.000401</td>\n",
       "      <td>0.000999</td>\n",
       "      <td>8.203817e-07</td>\n",
       "      <td>30</td>\n",
       "      <td>{'alpha': 30}</td>\n",
       "      <td>-0.000274</td>\n",
       "      <td>-0.014827</td>\n",
       "      <td>-0.009001</td>\n",
       "      <td>-0.007996</td>\n",
       "      <td>-0.011516</td>\n",
       "      <td>-0.008723</td>\n",
       "      <td>0.004838</td>\n",
       "      <td>5</td>\n",
       "    </tr>\n",
       "    <tr>\n",
       "      <th>14</th>\n",
       "      <td>0.001998</td>\n",
       "      <td>0.000001</td>\n",
       "      <td>0.001399</td>\n",
       "      <td>4.897266e-04</td>\n",
       "      <td>50</td>\n",
       "      <td>{'alpha': 50}</td>\n",
       "      <td>-0.000274</td>\n",
       "      <td>-0.014827</td>\n",
       "      <td>-0.009001</td>\n",
       "      <td>-0.007996</td>\n",
       "      <td>-0.011516</td>\n",
       "      <td>-0.008723</td>\n",
       "      <td>0.004838</td>\n",
       "      <td>5</td>\n",
       "    </tr>\n",
       "    <tr>\n",
       "      <th>15</th>\n",
       "      <td>0.002598</td>\n",
       "      <td>0.000491</td>\n",
       "      <td>0.001599</td>\n",
       "      <td>4.881510e-04</td>\n",
       "      <td>100</td>\n",
       "      <td>{'alpha': 100}</td>\n",
       "      <td>-0.000274</td>\n",
       "      <td>-0.014827</td>\n",
       "      <td>-0.009001</td>\n",
       "      <td>-0.007996</td>\n",
       "      <td>-0.011516</td>\n",
       "      <td>-0.008723</td>\n",
       "      <td>0.004838</td>\n",
       "      <td>5</td>\n",
       "    </tr>\n",
       "    <tr>\n",
       "      <th>3</th>\n",
       "      <td>0.003397</td>\n",
       "      <td>0.000490</td>\n",
       "      <td>0.001401</td>\n",
       "      <td>4.883455e-04</td>\n",
       "      <td>0.01</td>\n",
       "      <td>{'alpha': 0.01}</td>\n",
       "      <td>0.529967</td>\n",
       "      <td>0.584569</td>\n",
       "      <td>0.589121</td>\n",
       "      <td>0.566668</td>\n",
       "      <td>0.601182</td>\n",
       "      <td>0.574301</td>\n",
       "      <td>0.024785</td>\n",
       "      <td>4</td>\n",
       "    </tr>\n",
       "    <tr>\n",
       "      <th>2</th>\n",
       "      <td>0.004197</td>\n",
       "      <td>0.000979</td>\n",
       "      <td>0.001599</td>\n",
       "      <td>7.992511e-04</td>\n",
       "      <td>0.001</td>\n",
       "      <td>{'alpha': 0.001}</td>\n",
       "      <td>0.739163</td>\n",
       "      <td>0.741570</td>\n",
       "      <td>0.807421</td>\n",
       "      <td>0.728530</td>\n",
       "      <td>0.797538</td>\n",
       "      <td>0.762845</td>\n",
       "      <td>0.032807</td>\n",
       "      <td>3</td>\n",
       "    </tr>\n",
       "    <tr>\n",
       "      <th>1</th>\n",
       "      <td>0.003399</td>\n",
       "      <td>0.000800</td>\n",
       "      <td>0.001598</td>\n",
       "      <td>7.993464e-04</td>\n",
       "      <td>0.0001</td>\n",
       "      <td>{'alpha': 0.0001}</td>\n",
       "      <td>0.747842</td>\n",
       "      <td>0.743707</td>\n",
       "      <td>0.822986</td>\n",
       "      <td>0.728693</td>\n",
       "      <td>0.795388</td>\n",
       "      <td>0.767723</td>\n",
       "      <td>0.035538</td>\n",
       "      <td>2</td>\n",
       "    </tr>\n",
       "    <tr>\n",
       "      <th>0</th>\n",
       "      <td>0.003599</td>\n",
       "      <td>0.000490</td>\n",
       "      <td>0.001798</td>\n",
       "      <td>7.455293e-04</td>\n",
       "      <td>1e-05</td>\n",
       "      <td>{'alpha': 1e-05}</td>\n",
       "      <td>0.748341</td>\n",
       "      <td>0.743403</td>\n",
       "      <td>0.824564</td>\n",
       "      <td>0.728604</td>\n",
       "      <td>0.793986</td>\n",
       "      <td>0.767780</td>\n",
       "      <td>0.035828</td>\n",
       "      <td>1</td>\n",
       "    </tr>\n",
       "  </tbody>\n",
       "</table>\n",
       "</div>"
      ],
      "text/plain": [
       "    mean_fit_time  std_fit_time  mean_score_time  std_score_time param_alpha  \\\n",
       "4        0.003399      0.000490         0.001800    1.165030e-03         0.1   \n",
       "5        0.003201      0.001166         0.001996    6.782160e-06         0.2   \n",
       "6        0.002199      0.000400         0.001200    3.988269e-04         0.5   \n",
       "7        0.002998      0.000632         0.000999    1.451027e-06         0.8   \n",
       "8        0.003198      0.000400         0.000999    3.147125e-06           1   \n",
       "9        0.002599      0.000490         0.001398    4.885025e-04           2   \n",
       "10       0.002998      0.000631         0.000998    2.960233e-06           5   \n",
       "11       0.003398      0.000800         0.001599    4.889297e-04          10   \n",
       "12       0.002799      0.000748         0.001400    4.907630e-04          20   \n",
       "13       0.002199      0.000401         0.000999    8.203817e-07          30   \n",
       "14       0.001998      0.000001         0.001399    4.897266e-04          50   \n",
       "15       0.002598      0.000491         0.001599    4.881510e-04         100   \n",
       "3        0.003397      0.000490         0.001401    4.883455e-04        0.01   \n",
       "2        0.004197      0.000979         0.001599    7.992511e-04       0.001   \n",
       "1        0.003399      0.000800         0.001598    7.993464e-04      0.0001   \n",
       "0        0.003599      0.000490         0.001798    7.455293e-04       1e-05   \n",
       "\n",
       "               params  split0_test_score  split1_test_score  \\\n",
       "4      {'alpha': 0.1}          -0.000274          -0.014827   \n",
       "5      {'alpha': 0.2}          -0.000274          -0.014827   \n",
       "6      {'alpha': 0.5}          -0.000274          -0.014827   \n",
       "7      {'alpha': 0.8}          -0.000274          -0.014827   \n",
       "8        {'alpha': 1}          -0.000274          -0.014827   \n",
       "9        {'alpha': 2}          -0.000274          -0.014827   \n",
       "10       {'alpha': 5}          -0.000274          -0.014827   \n",
       "11      {'alpha': 10}          -0.000274          -0.014827   \n",
       "12      {'alpha': 20}          -0.000274          -0.014827   \n",
       "13      {'alpha': 30}          -0.000274          -0.014827   \n",
       "14      {'alpha': 50}          -0.000274          -0.014827   \n",
       "15     {'alpha': 100}          -0.000274          -0.014827   \n",
       "3     {'alpha': 0.01}           0.529967           0.584569   \n",
       "2    {'alpha': 0.001}           0.739163           0.741570   \n",
       "1   {'alpha': 0.0001}           0.747842           0.743707   \n",
       "0    {'alpha': 1e-05}           0.748341           0.743403   \n",
       "\n",
       "    split2_test_score  split3_test_score  split4_test_score  mean_test_score  \\\n",
       "4           -0.009001          -0.007996          -0.011516        -0.008723   \n",
       "5           -0.009001          -0.007996          -0.011516        -0.008723   \n",
       "6           -0.009001          -0.007996          -0.011516        -0.008723   \n",
       "7           -0.009001          -0.007996          -0.011516        -0.008723   \n",
       "8           -0.009001          -0.007996          -0.011516        -0.008723   \n",
       "9           -0.009001          -0.007996          -0.011516        -0.008723   \n",
       "10          -0.009001          -0.007996          -0.011516        -0.008723   \n",
       "11          -0.009001          -0.007996          -0.011516        -0.008723   \n",
       "12          -0.009001          -0.007996          -0.011516        -0.008723   \n",
       "13          -0.009001          -0.007996          -0.011516        -0.008723   \n",
       "14          -0.009001          -0.007996          -0.011516        -0.008723   \n",
       "15          -0.009001          -0.007996          -0.011516        -0.008723   \n",
       "3            0.589121           0.566668           0.601182         0.574301   \n",
       "2            0.807421           0.728530           0.797538         0.762845   \n",
       "1            0.822986           0.728693           0.795388         0.767723   \n",
       "0            0.824564           0.728604           0.793986         0.767780   \n",
       "\n",
       "    std_test_score  rank_test_score  \n",
       "4         0.004838                5  \n",
       "5         0.004838                5  \n",
       "6         0.004838                5  \n",
       "7         0.004838                5  \n",
       "8         0.004838                5  \n",
       "9         0.004838                5  \n",
       "10        0.004838                5  \n",
       "11        0.004838                5  \n",
       "12        0.004838                5  \n",
       "13        0.004838                5  \n",
       "14        0.004838                5  \n",
       "15        0.004838                5  \n",
       "3         0.024785                4  \n",
       "2         0.032807                3  \n",
       "1         0.035538                2  \n",
       "0         0.035828                1  "
      ]
     },
     "execution_count": 563,
     "metadata": {},
     "output_type": "execute_result"
    }
   ],
   "source": [
    "## From Lasso we can go with :\n",
    "las=Lasso(normalize=True)\n",
    "param={'alpha':[0.00001,0.0001,0.001,0.01,0.1,0.2,0.5,0.8,1,2,5,10,20,30,50,100]}\n",
    "las_mod=GridSearchCV(las,param_grid=param,scoring='r2')\n",
    "las_mod.fit(xtrain,ytrain)\n",
    "\n",
    "print('The best alpha value is',las_mod.best_params_)\n",
    "\n",
    "las_results=pd.DataFrame(las_mod.cv_results_)\n",
    "las_results.sort_values('std_test_score')"
   ]
  },
  {
   "cell_type": "code",
   "execution_count": 564,
   "metadata": {},
   "outputs": [],
   "source": [
    "## By comparing manually for least bias and variance error:\n",
    "## The best value for lasso:\n",
    "\n",
    "## {'alpha': 0.001}, r2_mean:0.762845\tstd_value: \t0.032807"
   ]
  },
  {
   "cell_type": "code",
   "execution_count": 565,
   "metadata": {},
   "outputs": [
    {
     "name": "stdout",
     "output_type": "stream",
     "text": [
      "The best r2 value 0.7677861601723903\n"
     ]
    },
    {
     "data": {
      "text/html": [
       "<div>\n",
       "<style scoped>\n",
       "    .dataframe tbody tr th:only-of-type {\n",
       "        vertical-align: middle;\n",
       "    }\n",
       "\n",
       "    .dataframe tbody tr th {\n",
       "        vertical-align: top;\n",
       "    }\n",
       "\n",
       "    .dataframe thead th {\n",
       "        text-align: right;\n",
       "    }\n",
       "</style>\n",
       "<table border=\"1\" class=\"dataframe\">\n",
       "  <thead>\n",
       "    <tr style=\"text-align: right;\">\n",
       "      <th></th>\n",
       "      <th>mean_fit_time</th>\n",
       "      <th>std_fit_time</th>\n",
       "      <th>mean_score_time</th>\n",
       "      <th>std_score_time</th>\n",
       "      <th>param_alpha</th>\n",
       "      <th>param_l1_ratio</th>\n",
       "      <th>params</th>\n",
       "      <th>split0_test_score</th>\n",
       "      <th>split1_test_score</th>\n",
       "      <th>split2_test_score</th>\n",
       "      <th>split3_test_score</th>\n",
       "      <th>split4_test_score</th>\n",
       "      <th>mean_test_score</th>\n",
       "      <th>std_test_score</th>\n",
       "      <th>rank_test_score</th>\n",
       "    </tr>\n",
       "  </thead>\n",
       "  <tbody>\n",
       "    <tr>\n",
       "      <th>36</th>\n",
       "      <td>0.003398</td>\n",
       "      <td>7.991563e-04</td>\n",
       "      <td>0.001399</td>\n",
       "      <td>4.893762e-04</td>\n",
       "      <td>0.1</td>\n",
       "      <td>0.1</td>\n",
       "      <td>{'alpha': 0.1, 'l1_ratio': 0.1}</td>\n",
       "      <td>0.009960</td>\n",
       "      <td>-0.003018</td>\n",
       "      <td>0.002719</td>\n",
       "      <td>0.003448</td>\n",
       "      <td>0.000282</td>\n",
       "      <td>0.002678</td>\n",
       "      <td>0.004285</td>\n",
       "      <td>37</td>\n",
       "    </tr>\n",
       "    <tr>\n",
       "      <th>27</th>\n",
       "      <td>0.001999</td>\n",
       "      <td>2.861023e-07</td>\n",
       "      <td>0.000999</td>\n",
       "      <td>1.144409e-06</td>\n",
       "      <td>0.01</td>\n",
       "      <td>0.1</td>\n",
       "      <td>{'alpha': 0.01, 'l1_ratio': 0.1}</td>\n",
       "      <td>0.164063</td>\n",
       "      <td>0.170676</td>\n",
       "      <td>0.172752</td>\n",
       "      <td>0.170147</td>\n",
       "      <td>0.177762</td>\n",
       "      <td>0.171080</td>\n",
       "      <td>0.004421</td>\n",
       "      <td>36</td>\n",
       "    </tr>\n",
       "    <tr>\n",
       "      <th>37</th>\n",
       "      <td>0.002399</td>\n",
       "      <td>7.990842e-04</td>\n",
       "      <td>0.001000</td>\n",
       "      <td>7.893059e-07</td>\n",
       "      <td>0.1</td>\n",
       "      <td>0.2</td>\n",
       "      <td>{'alpha': 0.1, 'l1_ratio': 0.2}</td>\n",
       "      <td>0.001735</td>\n",
       "      <td>-0.012730</td>\n",
       "      <td>-0.006649</td>\n",
       "      <td>-0.005666</td>\n",
       "      <td>-0.009216</td>\n",
       "      <td>-0.006505</td>\n",
       "      <td>0.004790</td>\n",
       "      <td>38</td>\n",
       "    </tr>\n",
       "    <tr>\n",
       "      <th>45</th>\n",
       "      <td>0.001799</td>\n",
       "      <td>3.999241e-04</td>\n",
       "      <td>0.000999</td>\n",
       "      <td>6.468134e-07</td>\n",
       "      <td>0.2</td>\n",
       "      <td>0.1</td>\n",
       "      <td>{'alpha': 0.2, 'l1_ratio': 0.1}</td>\n",
       "      <td>0.000627</td>\n",
       "      <td>-0.013886</td>\n",
       "      <td>-0.007945</td>\n",
       "      <td>-0.006950</td>\n",
       "      <td>-0.010484</td>\n",
       "      <td>-0.007728</td>\n",
       "      <td>0.004816</td>\n",
       "      <td>39</td>\n",
       "    </tr>\n",
       "    <tr>\n",
       "      <th>28</th>\n",
       "      <td>0.001998</td>\n",
       "      <td>8.583069e-07</td>\n",
       "      <td>0.001000</td>\n",
       "      <td>1.482036e-06</td>\n",
       "      <td>0.01</td>\n",
       "      <td>0.2</td>\n",
       "      <td>{'alpha': 0.01, 'l1_ratio': 0.2}</td>\n",
       "      <td>0.170004</td>\n",
       "      <td>0.177743</td>\n",
       "      <td>0.179461</td>\n",
       "      <td>0.177199</td>\n",
       "      <td>0.185066</td>\n",
       "      <td>0.177895</td>\n",
       "      <td>0.004830</td>\n",
       "      <td>35</td>\n",
       "    </tr>\n",
       "    <tr>\n",
       "      <th>...</th>\n",
       "      <td>...</td>\n",
       "      <td>...</td>\n",
       "      <td>...</td>\n",
       "      <td>...</td>\n",
       "      <td>...</td>\n",
       "      <td>...</td>\n",
       "      <td>...</td>\n",
       "      <td>...</td>\n",
       "      <td>...</td>\n",
       "      <td>...</td>\n",
       "      <td>...</td>\n",
       "      <td>...</td>\n",
       "      <td>...</td>\n",
       "      <td>...</td>\n",
       "      <td>...</td>\n",
       "    </tr>\n",
       "    <tr>\n",
       "      <th>4</th>\n",
       "      <td>0.002402</td>\n",
       "      <td>4.937982e-04</td>\n",
       "      <td>0.001197</td>\n",
       "      <td>4.014304e-04</td>\n",
       "      <td>1e-05</td>\n",
       "      <td>0.5</td>\n",
       "      <td>{'alpha': 1e-05, 'l1_ratio': 0.5}</td>\n",
       "      <td>0.748082</td>\n",
       "      <td>0.743727</td>\n",
       "      <td>0.824110</td>\n",
       "      <td>0.728853</td>\n",
       "      <td>0.794157</td>\n",
       "      <td>0.767786</td>\n",
       "      <td>0.035639</td>\n",
       "      <td>2</td>\n",
       "    </tr>\n",
       "    <tr>\n",
       "      <th>5</th>\n",
       "      <td>0.002399</td>\n",
       "      <td>4.897273e-04</td>\n",
       "      <td>0.001199</td>\n",
       "      <td>4.014504e-04</td>\n",
       "      <td>1e-05</td>\n",
       "      <td>0.6</td>\n",
       "      <td>{'alpha': 1e-05, 'l1_ratio': 0.6}</td>\n",
       "      <td>0.748135</td>\n",
       "      <td>0.743664</td>\n",
       "      <td>0.824202</td>\n",
       "      <td>0.728805</td>\n",
       "      <td>0.794125</td>\n",
       "      <td>0.767786</td>\n",
       "      <td>0.035676</td>\n",
       "      <td>1</td>\n",
       "    </tr>\n",
       "    <tr>\n",
       "      <th>6</th>\n",
       "      <td>0.002999</td>\n",
       "      <td>1.095932e-03</td>\n",
       "      <td>0.000999</td>\n",
       "      <td>1.221299e-06</td>\n",
       "      <td>1e-05</td>\n",
       "      <td>0.7</td>\n",
       "      <td>{'alpha': 1e-05, 'l1_ratio': 0.7}</td>\n",
       "      <td>0.748187</td>\n",
       "      <td>0.743600</td>\n",
       "      <td>0.824293</td>\n",
       "      <td>0.728756</td>\n",
       "      <td>0.794092</td>\n",
       "      <td>0.767786</td>\n",
       "      <td>0.035714</td>\n",
       "      <td>3</td>\n",
       "    </tr>\n",
       "    <tr>\n",
       "      <th>7</th>\n",
       "      <td>0.002398</td>\n",
       "      <td>4.894163e-04</td>\n",
       "      <td>0.001800</td>\n",
       "      <td>7.474239e-04</td>\n",
       "      <td>1e-05</td>\n",
       "      <td>0.8</td>\n",
       "      <td>{'alpha': 1e-05, 'l1_ratio': 0.8}</td>\n",
       "      <td>0.748239</td>\n",
       "      <td>0.743535</td>\n",
       "      <td>0.824384</td>\n",
       "      <td>0.728706</td>\n",
       "      <td>0.794058</td>\n",
       "      <td>0.767785</td>\n",
       "      <td>0.035752</td>\n",
       "      <td>5</td>\n",
       "    </tr>\n",
       "    <tr>\n",
       "      <th>8</th>\n",
       "      <td>0.002200</td>\n",
       "      <td>3.989000e-04</td>\n",
       "      <td>0.000999</td>\n",
       "      <td>1.274146e-06</td>\n",
       "      <td>1e-05</td>\n",
       "      <td>0.9</td>\n",
       "      <td>{'alpha': 1e-05, 'l1_ratio': 0.9}</td>\n",
       "      <td>0.748291</td>\n",
       "      <td>0.743470</td>\n",
       "      <td>0.824474</td>\n",
       "      <td>0.728656</td>\n",
       "      <td>0.794023</td>\n",
       "      <td>0.767783</td>\n",
       "      <td>0.035790</td>\n",
       "      <td>7</td>\n",
       "    </tr>\n",
       "  </tbody>\n",
       "</table>\n",
       "<p>144 rows × 15 columns</p>\n",
       "</div>"
      ],
      "text/plain": [
       "    mean_fit_time  std_fit_time  mean_score_time  std_score_time param_alpha  \\\n",
       "36       0.003398  7.991563e-04         0.001399    4.893762e-04         0.1   \n",
       "27       0.001999  2.861023e-07         0.000999    1.144409e-06        0.01   \n",
       "37       0.002399  7.990842e-04         0.001000    7.893059e-07         0.1   \n",
       "45       0.001799  3.999241e-04         0.000999    6.468134e-07         0.2   \n",
       "28       0.001998  8.583069e-07         0.001000    1.482036e-06        0.01   \n",
       "..            ...           ...              ...             ...         ...   \n",
       "4        0.002402  4.937982e-04         0.001197    4.014304e-04       1e-05   \n",
       "5        0.002399  4.897273e-04         0.001199    4.014504e-04       1e-05   \n",
       "6        0.002999  1.095932e-03         0.000999    1.221299e-06       1e-05   \n",
       "7        0.002398  4.894163e-04         0.001800    7.474239e-04       1e-05   \n",
       "8        0.002200  3.989000e-04         0.000999    1.274146e-06       1e-05   \n",
       "\n",
       "   param_l1_ratio                             params  split0_test_score  \\\n",
       "36            0.1    {'alpha': 0.1, 'l1_ratio': 0.1}           0.009960   \n",
       "27            0.1   {'alpha': 0.01, 'l1_ratio': 0.1}           0.164063   \n",
       "37            0.2    {'alpha': 0.1, 'l1_ratio': 0.2}           0.001735   \n",
       "45            0.1    {'alpha': 0.2, 'l1_ratio': 0.1}           0.000627   \n",
       "28            0.2   {'alpha': 0.01, 'l1_ratio': 0.2}           0.170004   \n",
       "..            ...                                ...                ...   \n",
       "4             0.5  {'alpha': 1e-05, 'l1_ratio': 0.5}           0.748082   \n",
       "5             0.6  {'alpha': 1e-05, 'l1_ratio': 0.6}           0.748135   \n",
       "6             0.7  {'alpha': 1e-05, 'l1_ratio': 0.7}           0.748187   \n",
       "7             0.8  {'alpha': 1e-05, 'l1_ratio': 0.8}           0.748239   \n",
       "8             0.9  {'alpha': 1e-05, 'l1_ratio': 0.9}           0.748291   \n",
       "\n",
       "    split1_test_score  split2_test_score  split3_test_score  \\\n",
       "36          -0.003018           0.002719           0.003448   \n",
       "27           0.170676           0.172752           0.170147   \n",
       "37          -0.012730          -0.006649          -0.005666   \n",
       "45          -0.013886          -0.007945          -0.006950   \n",
       "28           0.177743           0.179461           0.177199   \n",
       "..                ...                ...                ...   \n",
       "4            0.743727           0.824110           0.728853   \n",
       "5            0.743664           0.824202           0.728805   \n",
       "6            0.743600           0.824293           0.728756   \n",
       "7            0.743535           0.824384           0.728706   \n",
       "8            0.743470           0.824474           0.728656   \n",
       "\n",
       "    split4_test_score  mean_test_score  std_test_score  rank_test_score  \n",
       "36           0.000282         0.002678        0.004285               37  \n",
       "27           0.177762         0.171080        0.004421               36  \n",
       "37          -0.009216        -0.006505        0.004790               38  \n",
       "45          -0.010484        -0.007728        0.004816               39  \n",
       "28           0.185066         0.177895        0.004830               35  \n",
       "..                ...              ...             ...              ...  \n",
       "4            0.794157         0.767786        0.035639                2  \n",
       "5            0.794125         0.767786        0.035676                1  \n",
       "6            0.794092         0.767786        0.035714                3  \n",
       "7            0.794058         0.767785        0.035752                5  \n",
       "8            0.794023         0.767783        0.035790                7  \n",
       "\n",
       "[144 rows x 15 columns]"
      ]
     },
     "execution_count": 565,
     "metadata": {},
     "output_type": "execute_result"
    }
   ],
   "source": [
    "## For Elastic net :\n",
    "param={'alpha':[0.00001,0.0001,0.001,0.01,0.1,0.2,0.5,0.8,1,2,5,10,20,30,50,100],\n",
    "      'l1_ratio':[0.1,0.2,0.3,0.4,0.5,0.6,0.7,0.8,0.9]}\n",
    "\n",
    "enet=ElasticNet(normalize=True)\n",
    "enet_mod=GridSearchCV(enet,param_grid=param,scoring='r2',cv=5)\n",
    "\n",
    "enet_mod.fit(xtrain,ytrain)\n",
    "\n",
    "print('The best r2 value',enet_mod.best_score_)\n",
    "\n",
    "enet_results=pd.DataFrame(enet_mod.cv_results_)\n",
    "enet_results.sort_values('std_test_score')"
   ]
  },
  {
   "cell_type": "code",
   "execution_count": 566,
   "metadata": {},
   "outputs": [],
   "source": [
    "## The best value out for elastic net is:\n",
    "## {'alpha': 1e-05, 'l1_ratio': 0.6}, mean_r2_vale: 0.767786\t mean_r2_vale:0.035676\t\n"
   ]
  },
  {
   "cell_type": "code",
   "execution_count": 567,
   "metadata": {},
   "outputs": [],
   "source": [
    "## Now out of all the three values the best model which could be used for\n",
    "\n",
    "## RIDGE: {'alpha': 0.001}\t,mean_r2_vale:0.730921,mean_r2_vale:0.016644\t\n",
    "\n",
    "## LASSO:{'alpha': 20}, r2_mean:0.726895\tstd_value: 0.015214\t\n",
    "\n",
    "## ELASTIC NET:{'alpha': 1e-05, 'l1_ratio': 0.6}, mean_r2_vale: 0.767786\t mean_r2_vale:0.035676\t"
   ]
  },
  {
   "cell_type": "code",
   "execution_count": 568,
   "metadata": {},
   "outputs": [],
   "source": [
    "## For prediction we can go with Ridge or lasso since both give good r2 and less variance"
   ]
  },
  {
   "cell_type": "markdown",
   "metadata": {},
   "source": [
    "                                FINAL MODEL"
   ]
  },
  {
   "cell_type": "code",
   "execution_count": 569,
   "metadata": {},
   "outputs": [
    {
     "data": {
      "text/html": [
       "<table class=\"simpletable\">\n",
       "<caption>OLS Regression Results</caption>\n",
       "<tr>\n",
       "  <th>Dep. Variable:</th>            <td>y</td>        <th>  R-squared:         </th> <td>   0.763</td>\n",
       "</tr>\n",
       "<tr>\n",
       "  <th>Model:</th>                   <td>OLS</td>       <th>  Adj. R-squared:    </th> <td>   0.761</td>\n",
       "</tr>\n",
       "<tr>\n",
       "  <th>Method:</th>             <td>Least Squares</td>  <th>  F-statistic:       </th> <td>   534.1</td>\n",
       "</tr>\n",
       "<tr>\n",
       "  <th>Date:</th>             <td>Thu, 07 Jan 2021</td> <th>  Prob (F-statistic):</th>  <td>  0.00</td> \n",
       "</tr>\n",
       "<tr>\n",
       "  <th>Time:</th>                 <td>15:32:22</td>     <th>  Log-Likelihood:    </th> <td> -840.70</td>\n",
       "</tr>\n",
       "<tr>\n",
       "  <th>No. Observations:</th>      <td>  1338</td>      <th>  AIC:               </th> <td>   1699.</td>\n",
       "</tr>\n",
       "<tr>\n",
       "  <th>Df Residuals:</th>          <td>  1329</td>      <th>  BIC:               </th> <td>   1746.</td>\n",
       "</tr>\n",
       "<tr>\n",
       "  <th>Df Model:</th>              <td>     8</td>      <th>                     </th>     <td> </td>   \n",
       "</tr>\n",
       "<tr>\n",
       "  <th>Covariance Type:</th>      <td>nonrobust</td>    <th>                     </th>     <td> </td>   \n",
       "</tr>\n",
       "</table>\n",
       "<table class=\"simpletable\">\n",
       "<tr>\n",
       "          <td></td>            <th>coef</th>     <th>std err</th>      <th>t</th>      <th>P>|t|</th>  <th>[0.025</th>    <th>0.975]</th>  \n",
       "</tr>\n",
       "<tr>\n",
       "  <th>const</th>            <td>    9.0458</td> <td>    0.012</td> <td>  727.055</td> <td> 0.000</td> <td>    9.021</td> <td>    9.070</td>\n",
       "</tr>\n",
       "<tr>\n",
       "  <th>age</th>              <td>    0.0336</td> <td>    0.001</td> <td>   37.645</td> <td> 0.000</td> <td>    0.032</td> <td>    0.035</td>\n",
       "</tr>\n",
       "<tr>\n",
       "  <th>bmi</th>              <td>    0.0150</td> <td>    0.002</td> <td>    6.915</td> <td> 0.000</td> <td>    0.011</td> <td>    0.019</td>\n",
       "</tr>\n",
       "<tr>\n",
       "  <th>children</th>         <td>    0.1007</td> <td>    0.010</td> <td>    9.734</td> <td> 0.000</td> <td>    0.080</td> <td>    0.121</td>\n",
       "</tr>\n",
       "<tr>\n",
       "  <th>sex_male</th>         <td>   -0.0691</td> <td>    0.025</td> <td>   -2.765</td> <td> 0.006</td> <td>   -0.118</td> <td>   -0.020</td>\n",
       "</tr>\n",
       "<tr>\n",
       "  <th>smoker_yes</th>       <td>    1.6009</td> <td>    0.031</td> <td>   51.613</td> <td> 0.000</td> <td>    1.540</td> <td>    1.662</td>\n",
       "</tr>\n",
       "<tr>\n",
       "  <th>region_northwest</th> <td>   -0.0679</td> <td>    0.036</td> <td>   -1.899</td> <td> 0.058</td> <td>   -0.138</td> <td>    0.002</td>\n",
       "</tr>\n",
       "<tr>\n",
       "  <th>region_southeast</th> <td>   -0.1571</td> <td>    0.036</td> <td>   -4.373</td> <td> 0.000</td> <td>   -0.228</td> <td>   -0.087</td>\n",
       "</tr>\n",
       "<tr>\n",
       "  <th>region_southwest</th> <td>   -0.1227</td> <td>    0.036</td> <td>   -3.419</td> <td> 0.001</td> <td>   -0.193</td> <td>   -0.052</td>\n",
       "</tr>\n",
       "</table>\n",
       "<table class=\"simpletable\">\n",
       "<tr>\n",
       "  <th>Omnibus:</th>       <td>413.891</td> <th>  Durbin-Watson:     </th> <td>   2.046</td> \n",
       "</tr>\n",
       "<tr>\n",
       "  <th>Prob(Omnibus):</th> <td> 0.000</td>  <th>  Jarque-Bera (JB):  </th> <td>1278.273</td> \n",
       "</tr>\n",
       "<tr>\n",
       "  <th>Skew:</th>          <td> 1.548</td>  <th>  Prob(JB):          </th> <td>2.67e-278</td>\n",
       "</tr>\n",
       "<tr>\n",
       "  <th>Kurtosis:</th>      <td> 6.653</td>  <th>  Cond. No.          </th> <td>    57.4</td> \n",
       "</tr>\n",
       "</table><br/><br/>Warnings:<br/>[1] Standard Errors assume that the covariance matrix of the errors is correctly specified."
      ],
      "text/plain": [
       "<class 'statsmodels.iolib.summary.Summary'>\n",
       "\"\"\"\n",
       "                            OLS Regression Results                            \n",
       "==============================================================================\n",
       "Dep. Variable:                      y   R-squared:                       0.763\n",
       "Model:                            OLS   Adj. R-squared:                  0.761\n",
       "Method:                 Least Squares   F-statistic:                     534.1\n",
       "Date:                Thu, 07 Jan 2021   Prob (F-statistic):               0.00\n",
       "Time:                        15:32:22   Log-Likelihood:                -840.70\n",
       "No. Observations:                1338   AIC:                             1699.\n",
       "Df Residuals:                    1329   BIC:                             1746.\n",
       "Df Model:                           8                                         \n",
       "Covariance Type:            nonrobust                                         \n",
       "====================================================================================\n",
       "                       coef    std err          t      P>|t|      [0.025      0.975]\n",
       "------------------------------------------------------------------------------------\n",
       "const                9.0458      0.012    727.055      0.000       9.021       9.070\n",
       "age                  0.0336      0.001     37.645      0.000       0.032       0.035\n",
       "bmi                  0.0150      0.002      6.915      0.000       0.011       0.019\n",
       "children             0.1007      0.010      9.734      0.000       0.080       0.121\n",
       "sex_male            -0.0691      0.025     -2.765      0.006      -0.118      -0.020\n",
       "smoker_yes           1.6009      0.031     51.613      0.000       1.540       1.662\n",
       "region_northwest    -0.0679      0.036     -1.899      0.058      -0.138       0.002\n",
       "region_southeast    -0.1571      0.036     -4.373      0.000      -0.228      -0.087\n",
       "region_southwest    -0.1227      0.036     -3.419      0.001      -0.193      -0.052\n",
       "==============================================================================\n",
       "Omnibus:                      413.891   Durbin-Watson:                   2.046\n",
       "Prob(Omnibus):                  0.000   Jarque-Bera (JB):             1278.273\n",
       "Skew:                           1.548   Prob(JB):                    2.67e-278\n",
       "Kurtosis:                       6.653   Cond. No.                         57.4\n",
       "==============================================================================\n",
       "\n",
       "Warnings:\n",
       "[1] Standard Errors assume that the covariance matrix of the errors is correctly specified.\n",
       "\"\"\""
      ]
     },
     "execution_count": 569,
     "metadata": {},
     "output_type": "execute_result"
    }
   ],
   "source": [
    "## For a final model: we can use features from backward selection:\n",
    "\n",
    "import statsmodels.api as smi\n",
    "\n",
    "inpc=smi.add_constant(inp1[back_feat])\n",
    "\n",
    "ols=smi.OLS(out,inpc)\n",
    "\n",
    "ols_mod=ols.fit()\n",
    "\n",
    "ols_mod.summary()"
   ]
  },
  {
   "cell_type": "markdown",
   "metadata": {},
   "source": [
    "                                      INFERENCE"
   ]
  },
  {
   "cell_type": "code",
   "execution_count": 87,
   "metadata": {},
   "outputs": [],
   "source": [
    "## Through the model:\n",
    "\n",
    "## 1. For every one unit increase in age the coverage amount increases by 0.03 units\n",
    "## 2. For every one unit increase the number of children the coverage amount increses by 0.01 units\n",
    "## 3. The coverage amount for males is 0.06 units lesser than females \n",
    "## 4. The coverage amount of smoker males is 1.6 units greater than non smokers \n",
    "## 5. For every one unit increase in bmi the coverage amount increases by 0.01\n",
    "\n",
    "## The overall model works well and all the features are significant \n",
    "\n",
    "## Their target customers can be more from the south east region \n",
    "## Smokers can be of high risk but the coverage amount is larger \n"
   ]
  }
 ],
 "metadata": {
  "kernelspec": {
   "display_name": "Python 3",
   "language": "python",
   "name": "python3"
  },
  "language_info": {
   "codemirror_mode": {
    "name": "ipython",
    "version": 3
   },
   "file_extension": ".py",
   "mimetype": "text/x-python",
   "name": "python",
   "nbconvert_exporter": "python",
   "pygments_lexer": "ipython3",
   "version": "3.7.6"
  }
 },
 "nbformat": 4,
 "nbformat_minor": 4
}
